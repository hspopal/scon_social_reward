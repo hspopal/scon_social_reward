{
 "cells": [
  {
   "cell_type": "markdown",
   "id": "e849d3dd-850e-46a8-b21b-35eccda406d8",
   "metadata": {},
   "source": [
    "# Prepare Participants Lists\n",
    "\n",
    "**Author**: Haroon Popal"
   ]
  },
  {
   "cell_type": "markdown",
   "id": "c0143a78-6a9d-4f37-afb3-4d972e9776f5",
   "metadata": {},
   "source": [
    "This notebook will create the **participants.tsv** file in the BIDS format which will include the subject ID and demographic information for all participants with fmriprep data. The notebook will also create a second list of participants and their run data, **participants_good_SR.csv**, for the social reward task that meets quality control thresholds. Participants may be exluced for excessive motion and/or poor MRI run quality, or if there were issues with their task run data. "
   ]
  },
  {
   "cell_type": "code",
   "execution_count": 1,
   "id": "b9be1a58-d66b-413b-a3c8-dd2bab7cdf47",
   "metadata": {},
   "outputs": [],
   "source": [
    "import os\n",
    "import sys\n",
    "import glob\n",
    "import pandas as pd\n",
    "import numpy as np\n",
    "from datetime import datetime, date\n",
    "\n",
    "import seaborn as sns\n",
    "import matplotlib.pyplot as plt"
   ]
  },
  {
   "cell_type": "code",
   "execution_count": 2,
   "id": "0986a6bd-28dc-461b-852c-2b32dc7b1724",
   "metadata": {},
   "outputs": [],
   "source": [
    "proj_dir = '/Users/hpopal/Google Drive/My Drive/dscn_lab/projects/scon_social_reward/'\n",
    "\n",
    "os.chdir(proj_dir)"
   ]
  },
  {
   "cell_type": "markdown",
   "id": "21de697f",
   "metadata": {},
   "source": [
    "# BIDS Participants List"
   ]
  },
  {
   "cell_type": "markdown",
   "id": "c8a344be",
   "metadata": {},
   "source": [
    "## Import QC spreadsheet\n",
    "This spreadsheet is derived from the [SCN fMRI Master Log](https://docs.google.com/spreadsheets/d/1-MOW372sO0g1y9cKl1_GkhMunp0lgdst11etN7qmZvU/edit#gid=158950615) QC tab and contains information on all participants who were scanned, and the quality control reading each of their runs."
   ]
  },
  {
   "cell_type": "code",
   "execution_count": 3,
   "id": "79d5a472-113d-4a11-ae81-e96dc16a37a7",
   "metadata": {},
   "outputs": [
    {
     "data": {
      "text/html": [
       "<div>\n",
       "<style scoped>\n",
       "    .dataframe tbody tr th:only-of-type {\n",
       "        vertical-align: middle;\n",
       "    }\n",
       "\n",
       "    .dataframe tbody tr th {\n",
       "        vertical-align: top;\n",
       "    }\n",
       "\n",
       "    .dataframe thead th {\n",
       "        text-align: right;\n",
       "    }\n",
       "</style>\n",
       "<table border=\"1\" class=\"dataframe\">\n",
       "  <thead>\n",
       "    <tr style=\"text-align: right;\">\n",
       "      <th></th>\n",
       "      <th>Anatomical</th>\n",
       "      <th>192x512x512</th>\n",
       "      <th>Unnamed: 3</th>\n",
       "      <th>Unnamed: 4</th>\n",
       "      <th>Unnamed: 5</th>\n",
       "      <th>HBN movie - Run 1</th>\n",
       "      <th>Unnamed: 7</th>\n",
       "      <th>NS - Run 1</th>\n",
       "      <th>Unnamed: 9</th>\n",
       "      <th>NS - Run 2</th>\n",
       "      <th>...</th>\n",
       "      <th>Unnamed: 17</th>\n",
       "      <th>SR - Run 3</th>\n",
       "      <th>Unnamed: 19</th>\n",
       "      <th>SR - Run 4</th>\n",
       "      <th>Unnamed: 21</th>\n",
       "      <th>Unnamed: 22</th>\n",
       "      <th>Unnamed: 23</th>\n",
       "      <th>Unnamed: 24</th>\n",
       "      <th>Unnamed: 25</th>\n",
       "      <th>Unnamed: 26</th>\n",
       "    </tr>\n",
       "    <tr>\n",
       "      <th>2</th>\n",
       "      <th></th>\n",
       "      <th></th>\n",
       "      <th></th>\n",
       "      <th></th>\n",
       "      <th></th>\n",
       "      <th></th>\n",
       "      <th></th>\n",
       "      <th></th>\n",
       "      <th></th>\n",
       "      <th></th>\n",
       "      <th></th>\n",
       "      <th></th>\n",
       "      <th></th>\n",
       "      <th></th>\n",
       "      <th></th>\n",
       "      <th></th>\n",
       "      <th></th>\n",
       "      <th></th>\n",
       "      <th></th>\n",
       "      <th></th>\n",
       "      <th></th>\n",
       "    </tr>\n",
       "  </thead>\n",
       "  <tbody>\n",
       "    <tr>\n",
       "      <th>SID</th>\n",
       "      <td>T1w</td>\n",
       "      <td>Dimension #s</td>\n",
       "      <td>Norm1</td>\n",
       "      <td>Norm2</td>\n",
       "      <td>Norm3</td>\n",
       "      <td>Alignment</td>\n",
       "      <td>Time: # of Volumes</td>\n",
       "      <td>Alignment</td>\n",
       "      <td>Time: # of Volumes</td>\n",
       "      <td>Alignment</td>\n",
       "      <td>...</td>\n",
       "      <td>Time: # of Volumes</td>\n",
       "      <td>Alignment</td>\n",
       "      <td>Time: # of Volumes</td>\n",
       "      <td>Alignment</td>\n",
       "      <td>Time: # of Volumes</td>\n",
       "      <td>Error Messages</td>\n",
       "      <td>Checked Reprocessed Data?</td>\n",
       "      <td>Overall Notes</td>\n",
       "      <td>frontal drop-off rating (1=least, 5=most)</td>\n",
       "      <td>wrap-around artifact</td>\n",
       "    </tr>\n",
       "    <tr>\n",
       "      <th>SCN_101</th>\n",
       "      <td>good</td>\n",
       "      <td>192x512x512</td>\n",
       "      <td>good</td>\n",
       "      <td>good</td>\n",
       "      <td>good</td>\n",
       "      <td>good</td>\n",
       "      <td>170</td>\n",
       "      <td>good</td>\n",
       "      <td>518.75</td>\n",
       "      <td>good</td>\n",
       "      <td>...</td>\n",
       "      <td>300</td>\n",
       "      <td>good</td>\n",
       "      <td>300</td>\n",
       "      <td>good</td>\n",
       "      <td>300</td>\n",
       "      <td>Node Name: fmriprep_wf.single_subject_SCN101_w...</td>\n",
       "      <td>TRUE</td>\n",
       "      <td>smudging in NS 2 and SR 2, general pixellation...</td>\n",
       "      <td>5</td>\n",
       "      <td>yes</td>\n",
       "    </tr>\n",
       "    <tr>\n",
       "      <th>SCN_102</th>\n",
       "      <td>good</td>\n",
       "      <td>192x512x512</td>\n",
       "      <td>good</td>\n",
       "      <td>good</td>\n",
       "      <td>good</td>\n",
       "      <td>good</td>\n",
       "      <td>170</td>\n",
       "      <td>good</td>\n",
       "      <td>518.75</td>\n",
       "      <td>good</td>\n",
       "      <td>...</td>\n",
       "      <td>300</td>\n",
       "      <td>good</td>\n",
       "      <td>300</td>\n",
       "      <td>good</td>\n",
       "      <td>300</td>\n",
       "      <td>No errors to report!</td>\n",
       "      <td>TRUE</td>\n",
       "      <td>pixellation in all moving runs</td>\n",
       "      <td>1</td>\n",
       "      <td>no</td>\n",
       "    </tr>\n",
       "    <tr>\n",
       "      <th>SCN_103</th>\n",
       "      <td>good</td>\n",
       "      <td>192x512x512</td>\n",
       "      <td>good</td>\n",
       "      <td>good</td>\n",
       "      <td>good</td>\n",
       "      <td>good</td>\n",
       "      <td>170</td>\n",
       "      <td>good</td>\n",
       "      <td>518.75</td>\n",
       "      <td>good</td>\n",
       "      <td>...</td>\n",
       "      <td>300</td>\n",
       "      <td>good</td>\n",
       "      <td>300</td>\n",
       "      <td>good</td>\n",
       "      <td>300</td>\n",
       "      <td>No errors to report!</td>\n",
       "      <td>TRUE</td>\n",
       "      <td>NaN</td>\n",
       "      <td>4</td>\n",
       "      <td>yes</td>\n",
       "    </tr>\n",
       "    <tr>\n",
       "      <th>SCN_104</th>\n",
       "      <td>good</td>\n",
       "      <td>192x512x512</td>\n",
       "      <td>good</td>\n",
       "      <td>good</td>\n",
       "      <td>good</td>\n",
       "      <td>good</td>\n",
       "      <td>170</td>\n",
       "      <td>good</td>\n",
       "      <td>518.75</td>\n",
       "      <td>good</td>\n",
       "      <td>...</td>\n",
       "      <td>300</td>\n",
       "      <td>good</td>\n",
       "      <td>300</td>\n",
       "      <td>good</td>\n",
       "      <td>300</td>\n",
       "      <td>No errors to report!</td>\n",
       "      <td>TRUE</td>\n",
       "      <td>most have some smudges, but small enough (NS 1...</td>\n",
       "      <td>2</td>\n",
       "      <td>yes</td>\n",
       "    </tr>\n",
       "  </tbody>\n",
       "</table>\n",
       "<p>5 rows × 26 columns</p>\n",
       "</div>"
      ],
      "text/plain": [
       "        Anatomical   192x512x512 Unnamed: 3 Unnamed: 4 Unnamed: 5  \\\n",
       "2                                                                   \n",
       "SID            T1w  Dimension #s      Norm1      Norm2      Norm3   \n",
       "SCN_101       good   192x512x512       good       good       good   \n",
       "SCN_102       good   192x512x512       good       good       good   \n",
       "SCN_103       good   192x512x512       good       good       good   \n",
       "SCN_104       good   192x512x512       good       good       good   \n",
       "\n",
       "        HBN movie - Run 1           Unnamed: 7 NS - Run 1          Unnamed: 9  \\\n",
       "2                                                                               \n",
       "SID             Alignment  Time: # of Volumes   Alignment  Time: # of Volumes   \n",
       "SCN_101              good                  170       good              518.75   \n",
       "SCN_102              good                  170       good              518.75   \n",
       "SCN_103              good                  170       good              518.75   \n",
       "SCN_104              good                  170       good              518.75   \n",
       "\n",
       "        NS - Run 2  ...         Unnamed: 17 SR - Run 3         Unnamed: 19  \\\n",
       "2                   ...                                                      \n",
       "SID      Alignment  ...  Time: # of Volumes  Alignment  Time: # of Volumes   \n",
       "SCN_101       good  ...                 300       good                 300   \n",
       "SCN_102       good  ...                 300       good                 300   \n",
       "SCN_103       good  ...                 300       good                 300   \n",
       "SCN_104       good  ...                 300       good                 300   \n",
       "\n",
       "        SR - Run 4         Unnamed: 21  \\\n",
       "2                                        \n",
       "SID      Alignment  Time: # of Volumes   \n",
       "SCN_101       good                 300   \n",
       "SCN_102       good                 300   \n",
       "SCN_103       good                 300   \n",
       "SCN_104       good                 300   \n",
       "\n",
       "                                               Unnamed: 22  \\\n",
       "2                                                            \n",
       "SID                                         Error Messages   \n",
       "SCN_101  Node Name: fmriprep_wf.single_subject_SCN101_w...   \n",
       "SCN_102                               No errors to report!   \n",
       "SCN_103                               No errors to report!   \n",
       "SCN_104                               No errors to report!   \n",
       "\n",
       "                       Unnamed: 23  \\\n",
       "2                                    \n",
       "SID      Checked Reprocessed Data?   \n",
       "SCN_101                       TRUE   \n",
       "SCN_102                       TRUE   \n",
       "SCN_103                       TRUE   \n",
       "SCN_104                       TRUE   \n",
       "\n",
       "                                               Unnamed: 24  \\\n",
       "2                                                            \n",
       "SID                                          Overall Notes   \n",
       "SCN_101  smudging in NS 2 and SR 2, general pixellation...   \n",
       "SCN_102                     pixellation in all moving runs   \n",
       "SCN_103                                                NaN   \n",
       "SCN_104  most have some smudges, but small enough (NS 1...   \n",
       "\n",
       "                                       Unnamed: 25           Unnamed: 26  \n",
       "2                                                                         \n",
       "SID      frontal drop-off rating (1=least, 5=most)  wrap-around artifact  \n",
       "SCN_101                                          5                   yes  \n",
       "SCN_102                                          1                    no  \n",
       "SCN_103                                          4                   yes  \n",
       "SCN_104                                          2                   yes  \n",
       "\n",
       "[5 rows x 26 columns]"
      ]
     },
     "execution_count": 3,
     "metadata": {},
     "output_type": "execute_result"
    }
   ],
   "source": [
    "mriqc_raw = pd.read_csv(proj_dir+'misc/SCN fMRI Master Log - QC.csv', index_col=0)\n",
    "mriqc_raw.head()"
   ]
  },
  {
   "cell_type": "code",
   "execution_count": 4,
   "id": "238b6285",
   "metadata": {},
   "outputs": [],
   "source": [
    "# Pull just the participant IDs\n",
    "participant_list = [x for x in mriqc_raw.index if str(x).startswith('SCN')]"
   ]
  },
  {
   "cell_type": "markdown",
   "id": "7323145a",
   "metadata": {},
   "source": [
    "## Import Demographic Info"
   ]
  },
  {
   "cell_type": "code",
   "execution_count": 5,
   "id": "71799a6c",
   "metadata": {},
   "outputs": [
    {
     "data": {
      "text/html": [
       "<div>\n",
       "<style scoped>\n",
       "    .dataframe tbody tr th:only-of-type {\n",
       "        vertical-align: middle;\n",
       "    }\n",
       "\n",
       "    .dataframe tbody tr th {\n",
       "        vertical-align: top;\n",
       "    }\n",
       "\n",
       "    .dataframe thead th {\n",
       "        text-align: right;\n",
       "    }\n",
       "</style>\n",
       "<table border=\"1\" class=\"dataframe\">\n",
       "  <thead>\n",
       "    <tr style=\"text-align: right;\">\n",
       "      <th></th>\n",
       "      <th>record_id</th>\n",
       "      <th>child_gender_lab_entered</th>\n",
       "      <th>child_birthday</th>\n",
       "      <th>date_of_visit</th>\n",
       "      <th>group</th>\n",
       "    </tr>\n",
       "  </thead>\n",
       "  <tbody>\n",
       "    <tr>\n",
       "      <th>5</th>\n",
       "      <td>SCN_101</td>\n",
       "      <td>2.0</td>\n",
       "      <td>12/10/2008</td>\n",
       "      <td>3/25/2022</td>\n",
       "      <td>1.0</td>\n",
       "    </tr>\n",
       "    <tr>\n",
       "      <th>6</th>\n",
       "      <td>SCN_102</td>\n",
       "      <td>1.0</td>\n",
       "      <td>11/11/2009</td>\n",
       "      <td>3/28/2022</td>\n",
       "      <td>1.0</td>\n",
       "    </tr>\n",
       "    <tr>\n",
       "      <th>7</th>\n",
       "      <td>SCN_103</td>\n",
       "      <td>2.0</td>\n",
       "      <td>9/16/2010</td>\n",
       "      <td>4/3/2022</td>\n",
       "      <td>1.0</td>\n",
       "    </tr>\n",
       "    <tr>\n",
       "      <th>8</th>\n",
       "      <td>SCN_104</td>\n",
       "      <td>1.0</td>\n",
       "      <td>10/23/2009</td>\n",
       "      <td>3/26/2022</td>\n",
       "      <td>1.0</td>\n",
       "    </tr>\n",
       "    <tr>\n",
       "      <th>9</th>\n",
       "      <td>SCN_105</td>\n",
       "      <td>4.0</td>\n",
       "      <td>1/4/2008</td>\n",
       "      <td>5/27/2022</td>\n",
       "      <td>2.0</td>\n",
       "    </tr>\n",
       "  </tbody>\n",
       "</table>\n",
       "</div>"
      ],
      "text/plain": [
       "  record_id  child_gender_lab_entered child_birthday date_of_visit  group\n",
       "5   SCN_101                       2.0     12/10/2008     3/25/2022    1.0\n",
       "6   SCN_102                       1.0     11/11/2009     3/28/2022    1.0\n",
       "7   SCN_103                       2.0      9/16/2010      4/3/2022    1.0\n",
       "8   SCN_104                       1.0     10/23/2009     3/26/2022    1.0\n",
       "9   SCN_105                       4.0       1/4/2008     5/27/2022    2.0"
      ]
     },
     "execution_count": 5,
     "metadata": {},
     "output_type": "execute_result"
    }
   ],
   "source": [
    "# Import Redcap demographics info\n",
    "redcap_info = pd.read_csv(glob.glob(os.path.join(proj_dir, 'misc',\n",
    "                                                 'SCONNChildPacket-Id*.csv'))[0])\n",
    "\n",
    "# Identify relevent columns in the Redcap dataframe\n",
    "relv_cols = ['record_id', 'child_gender_lab_entered', 'child_birthday',\n",
    "             'date_of_visit', 'group']\n",
    "\n",
    "redcap_info_fltr = redcap_info[relv_cols]\n",
    "\n",
    "# Capitalize subject name to standardize\n",
    "redcap_info_fltr.loc[:,'record_id'] = redcap_info_fltr['record_id'].str.upper()\n",
    "\n",
    "# Remove records that don't start with project code\n",
    "redcap_info_fltr = redcap_info_fltr[redcap_info_fltr['record_id'].str.startswith('SCN')]\n",
    "\n",
    "redcap_info_fltr.head()"
   ]
  },
  {
   "cell_type": "code",
   "execution_count": 6,
   "id": "f7ad6cd0",
   "metadata": {},
   "outputs": [
    {
     "data": {
      "text/html": [
       "<div>\n",
       "<style scoped>\n",
       "    .dataframe tbody tr th:only-of-type {\n",
       "        vertical-align: middle;\n",
       "    }\n",
       "\n",
       "    .dataframe tbody tr th {\n",
       "        vertical-align: top;\n",
       "    }\n",
       "\n",
       "    .dataframe thead th {\n",
       "        text-align: right;\n",
       "    }\n",
       "</style>\n",
       "<table border=\"1\" class=\"dataframe\">\n",
       "  <thead>\n",
       "    <tr style=\"text-align: right;\">\n",
       "      <th></th>\n",
       "      <th>record_id</th>\n",
       "      <th>child_gender_lab_entered</th>\n",
       "      <th>child_birthday</th>\n",
       "      <th>date_of_visit</th>\n",
       "      <th>group</th>\n",
       "    </tr>\n",
       "  </thead>\n",
       "  <tbody>\n",
       "    <tr>\n",
       "      <th>5</th>\n",
       "      <td>SCN_101</td>\n",
       "      <td>2.0</td>\n",
       "      <td>12/10/2008</td>\n",
       "      <td>3/25/2022</td>\n",
       "      <td>1.0</td>\n",
       "    </tr>\n",
       "    <tr>\n",
       "      <th>6</th>\n",
       "      <td>SCN_102</td>\n",
       "      <td>1.0</td>\n",
       "      <td>11/11/2009</td>\n",
       "      <td>3/28/2022</td>\n",
       "      <td>1.0</td>\n",
       "    </tr>\n",
       "    <tr>\n",
       "      <th>7</th>\n",
       "      <td>SCN_103</td>\n",
       "      <td>2.0</td>\n",
       "      <td>9/16/2010</td>\n",
       "      <td>4/3/2022</td>\n",
       "      <td>1.0</td>\n",
       "    </tr>\n",
       "    <tr>\n",
       "      <th>8</th>\n",
       "      <td>SCN_104</td>\n",
       "      <td>1.0</td>\n",
       "      <td>10/23/2009</td>\n",
       "      <td>3/26/2022</td>\n",
       "      <td>1.0</td>\n",
       "    </tr>\n",
       "    <tr>\n",
       "      <th>9</th>\n",
       "      <td>SCN_105</td>\n",
       "      <td>4.0</td>\n",
       "      <td>1/4/2008</td>\n",
       "      <td>5/27/2022</td>\n",
       "      <td>2.0</td>\n",
       "    </tr>\n",
       "  </tbody>\n",
       "</table>\n",
       "</div>"
      ],
      "text/plain": [
       "  record_id child_gender_lab_entered child_birthday date_of_visit  group\n",
       "5   SCN_101                      2.0     12/10/2008     3/25/2022    1.0\n",
       "6   SCN_102                      1.0     11/11/2009     3/28/2022    1.0\n",
       "7   SCN_103                      2.0      9/16/2010      4/3/2022    1.0\n",
       "8   SCN_104                      1.0     10/23/2009     3/26/2022    1.0\n",
       "9   SCN_105                      4.0       1/4/2008     5/27/2022    2.0"
      ]
     },
     "execution_count": 6,
     "metadata": {},
     "output_type": "execute_result"
    }
   ],
   "source": [
    "# Filter to only capture subjects with fmriprep data\n",
    "\n",
    "# Create a copy of the redcap data\n",
    "fmriprep_demo = redcap_info_fltr.copy()\n",
    "\n",
    "# Rename subject IDs to match fmripre IDs\n",
    "#fmriprep_demo['record_id'] = 'sub-' + fmriprep_demo['record_id']\n",
    "#fmriprep_demo['record_id'] = fmriprep_demo['record_id'].str.replace('_', '', \n",
    "#                                                                    regex=True)\n",
    "\n",
    "# Filter\n",
    "fmriprep_demo = fmriprep_demo[fmriprep_demo['record_id'].isin(participant_list)]\n",
    "\n",
    "# Fill nan with empty strings\n",
    "fmriprep_demo = fmriprep_demo.fillna('')\n",
    "\n",
    "fmriprep_demo.head()"
   ]
  },
  {
   "cell_type": "markdown",
   "id": "309cb8b1",
   "metadata": {},
   "source": [
    "### Calculate age"
   ]
  },
  {
   "cell_type": "code",
   "execution_count": 7,
   "id": "d441e0e8",
   "metadata": {},
   "outputs": [],
   "source": [
    "fmriprep_demo['age'] = ''\n",
    "\n",
    "for n in fmriprep_demo.index:\n",
    "    # Select the birth date\n",
    "    date_birth_str = fmriprep_demo.loc[n, 'child_birthday']\n",
    "    \n",
    "    if len(date_birth_str.split('/')[-1]) == 2:\n",
    "        date_birth = datetime.strptime(date_birth_str, \n",
    "                                   \"%m/%d/%y\").date()\n",
    "    elif len(date_birth_str.split('/')[-1]) == 4:\n",
    "        date_birth = datetime.strptime(date_birth_str, \n",
    "                                   \"%m/%d/%Y\").date()\n",
    "    else:\n",
    "        continue\n",
    "        \n",
    "        \n",
    "    # Select the birth date\n",
    "    date_study_str = fmriprep_demo.loc[n, 'date_of_visit']    \n",
    "    date_study_str = date_study_str.split(' + ')[0]\n",
    "    \n",
    "    if len(date_study_str.split('/')[-1]) == 2:\n",
    "        date_study = datetime.strptime(date_study_str, \n",
    "                                   \"%m/%d/%y\").date()\n",
    "    elif len(date_study_str.split('/')[-1]) == 4:\n",
    "        date_study = datetime.strptime(date_study_str, \n",
    "                                   \"%m/%d/%Y\").date()\n",
    "    else:\n",
    "        continue\n",
    "    \n",
    "    \n",
    "    \n",
    "    # Subtract to find the age in days and divide by number of days in year\n",
    "    # accounting for leap years\n",
    "    age = (date_study - date_birth).days / 365.25\n",
    "    \n",
    "    # Round and input into demo dataframe\n",
    "    fmriprep_demo.loc[n, 'age'] = round(age, 2)"
   ]
  },
  {
   "cell_type": "code",
   "execution_count": 8,
   "id": "623cb730",
   "metadata": {},
   "outputs": [],
   "source": [
    "# Rename columns\n",
    "fmriprep_demo = fmriprep_demo.rename(columns={'record_id': 'participant_id', \n",
    "                                              'child_gender_lab_entered': 'gender'})\n",
    "\n",
    "# Filter for only relevent columns\n",
    "outp_cols = ['participant_id', 'age', 'gender', 'group']\n",
    "\n",
    "fmriprep_demo = fmriprep_demo[outp_cols]"
   ]
  },
  {
   "cell_type": "markdown",
   "id": "4fb4659f",
   "metadata": {},
   "source": [
    "### Visualize Demographics"
   ]
  },
  {
   "cell_type": "code",
   "execution_count": 9,
   "id": "50329fa1",
   "metadata": {},
   "outputs": [
    {
     "data": {
      "image/png": "[encoded data removed]",
      "text/plain": [
       "<Figure size 1000x400 with 3 Axes>"
      ]
     },
     "metadata": {},
     "output_type": "display_data"
    }
   ],
   "source": [
    "plt.figure(figsize=(10,4))\n",
    "\n",
    "plt.subplot(1, 3, 1)\n",
    "ax = sns.histplot(fmriprep_demo, x='group')\n",
    "\n",
    "plt.subplot(1, 3, 2)\n",
    "sns.histplot(fmriprep_demo, x='age', hue='group', legend=False)\n",
    "\n",
    "plt.subplot(1, 3, 3)\n",
    "ax = sns.histplot(fmriprep_demo, x='gender', hue='group')\n",
    "sns.move_legend(ax, \"upper left\", bbox_to_anchor=(1, 1))\n",
    "plt.subplots_adjust(wspace = 0.65)"
   ]
  },
  {
   "cell_type": "code",
   "execution_count": 10,
   "id": "80b09195",
   "metadata": {},
   "outputs": [
    {
     "data": {
      "text/html": [
       "<div>\n",
       "<style scoped>\n",
       "    .dataframe tbody tr th:only-of-type {\n",
       "        vertical-align: middle;\n",
       "    }\n",
       "\n",
       "    .dataframe tbody tr th {\n",
       "        vertical-align: top;\n",
       "    }\n",
       "\n",
       "    .dataframe thead th {\n",
       "        text-align: right;\n",
       "    }\n",
       "</style>\n",
       "<table border=\"1\" class=\"dataframe\">\n",
       "  <thead>\n",
       "    <tr style=\"text-align: right;\">\n",
       "      <th></th>\n",
       "      <th>participant_id</th>\n",
       "      <th>age</th>\n",
       "      <th>gender</th>\n",
       "      <th>group</th>\n",
       "    </tr>\n",
       "  </thead>\n",
       "  <tbody>\n",
       "    <tr>\n",
       "      <th>114</th>\n",
       "      <td>SCN_233</td>\n",
       "      <td>0.64</td>\n",
       "      <td>1.0</td>\n",
       "      <td>1.0</td>\n",
       "    </tr>\n",
       "  </tbody>\n",
       "</table>\n",
       "</div>"
      ],
      "text/plain": [
       "    participant_id   age gender  group\n",
       "114        SCN_233  0.64    1.0    1.0"
      ]
     },
     "execution_count": 10,
     "metadata": {},
     "output_type": "execute_result"
    }
   ],
   "source": [
    "fmriprep_demo[fmriprep_demo['age'] < 10]"
   ]
  },
  {
   "cell_type": "markdown",
   "id": "1df415fa",
   "metadata": {},
   "source": [
    "### Fix participant IDs"
   ]
  },
  {
   "cell_type": "code",
   "execution_count": 11,
   "id": "38dca68c",
   "metadata": {},
   "outputs": [],
   "source": [
    "fmriprep_demo['participant_id'] = 'sub-' + fmriprep_demo['participant_id']\n",
    "fmriprep_demo['participant_id'] = fmriprep_demo['participant_id'].str.replace('_', '', \n",
    "                                                                    regex=True)"
   ]
  },
  {
   "cell_type": "markdown",
   "id": "d44ce5fe",
   "metadata": {},
   "source": [
    "## Export General List"
   ]
  },
  {
   "cell_type": "code",
   "execution_count": 12,
   "id": "341c9c14",
   "metadata": {},
   "outputs": [],
   "source": [
    "fmriprep_demo.to_csv(proj_dir+'/participants.tsv', sep='\\t', \n",
    "                                index=False)"
   ]
  },
  {
   "cell_type": "markdown",
   "id": "a3470e19",
   "metadata": {},
   "source": [
    "***"
   ]
  },
  {
   "cell_type": "markdown",
   "id": "ab646fbd",
   "metadata": {},
   "source": [
    "# Imaging QC\n",
    "\n",
    "This section will create a list of participants which have passed the lab based MRI QC protocols. "
   ]
  },
  {
   "cell_type": "markdown",
   "id": "02e4d9b7",
   "metadata": {},
   "source": [
    "## Import QC Data"
   ]
  },
  {
   "cell_type": "code",
   "execution_count": 13,
   "id": "6f73754f-d6af-44b0-9a29-37251bbd28bc",
   "metadata": {},
   "outputs": [
    {
     "data": {
      "text/html": [
       "<div>\n",
       "<style scoped>\n",
       "    .dataframe tbody tr th:only-of-type {\n",
       "        vertical-align: middle;\n",
       "    }\n",
       "\n",
       "    .dataframe tbody tr th {\n",
       "        vertical-align: top;\n",
       "    }\n",
       "\n",
       "    .dataframe thead th {\n",
       "        text-align: right;\n",
       "    }\n",
       "</style>\n",
       "<table border=\"1\" class=\"dataframe\">\n",
       "  <thead>\n",
       "    <tr style=\"text-align: right;\">\n",
       "      <th></th>\n",
       "      <th>SR - Run 1</th>\n",
       "      <th>SR - Run 2</th>\n",
       "      <th>SR - Run 3</th>\n",
       "      <th>SR - Run 4</th>\n",
       "    </tr>\n",
       "    <tr>\n",
       "      <th>participant_id</th>\n",
       "      <th></th>\n",
       "      <th></th>\n",
       "      <th></th>\n",
       "      <th></th>\n",
       "    </tr>\n",
       "  </thead>\n",
       "  <tbody>\n",
       "    <tr>\n",
       "      <th>sub-SCN101</th>\n",
       "      <td>good</td>\n",
       "      <td>good</td>\n",
       "      <td>good</td>\n",
       "      <td>good</td>\n",
       "    </tr>\n",
       "    <tr>\n",
       "      <th>sub-SCN102</th>\n",
       "      <td>good</td>\n",
       "      <td>good</td>\n",
       "      <td>good</td>\n",
       "      <td>good</td>\n",
       "    </tr>\n",
       "    <tr>\n",
       "      <th>sub-SCN103</th>\n",
       "      <td>good</td>\n",
       "      <td>good</td>\n",
       "      <td>good</td>\n",
       "      <td>good</td>\n",
       "    </tr>\n",
       "    <tr>\n",
       "      <th>sub-SCN104</th>\n",
       "      <td>good</td>\n",
       "      <td>good</td>\n",
       "      <td>good</td>\n",
       "      <td>good</td>\n",
       "    </tr>\n",
       "    <tr>\n",
       "      <th>sub-SCN105</th>\n",
       "      <td>good</td>\n",
       "      <td>good</td>\n",
       "      <td>good</td>\n",
       "      <td>good</td>\n",
       "    </tr>\n",
       "  </tbody>\n",
       "</table>\n",
       "</div>"
      ],
      "text/plain": [
       "               SR - Run 1 SR - Run 2 SR - Run 3 SR - Run 4\n",
       "participant_id                                            \n",
       "sub-SCN101           good       good       good       good\n",
       "sub-SCN102           good       good       good       good\n",
       "sub-SCN103           good       good       good       good\n",
       "sub-SCN104           good       good       good       good\n",
       "sub-SCN105           good       good       good       good"
      ]
     },
     "execution_count": 13,
     "metadata": {},
     "output_type": "execute_result"
    }
   ],
   "source": [
    "# Drop irrelevant rows\n",
    "mriqc = mriqc_raw.drop([x for x in mriqc_raw.index if not str(x).startswith('SCN')])\n",
    "\n",
    "# Remove irrelvant columns\n",
    "irr_col_names = [x for x in mriqc.columns if not x.startswith('SR - ')]\n",
    "mriqc = mriqc.drop(columns=irr_col_names)\n",
    "\n",
    "# Add fmriprep sub- prefix\n",
    "mriqc.index = 'sub-'+ mriqc.index\n",
    "\n",
    "# Remove underscore for participant ID\n",
    "mriqc.index = [sub.replace('_', '') for sub in mriqc.index]\n",
    "\n",
    "# Name index column\n",
    "mriqc.index.name = 'participant_id'\n",
    "\n",
    "mriqc.head()"
   ]
  },
  {
   "cell_type": "code",
   "execution_count": 14,
   "id": "33f76b3d-bc1b-4831-b698-38f17f7a6492",
   "metadata": {},
   "outputs": [],
   "source": [
    "# Clean up extra spaces at the end of column values\n",
    "for col in mriqc.columns:\n",
    "    mriqc[col] = mriqc[col].str.strip()"
   ]
  },
  {
   "cell_type": "markdown",
   "id": "a84f1f59",
   "metadata": {},
   "source": [
    "Total number of participants:"
   ]
  },
  {
   "cell_type": "code",
   "execution_count": 15,
   "id": "073a049e",
   "metadata": {},
   "outputs": [
    {
     "data": {
      "text/plain": [
       "114"
      ]
     },
     "execution_count": 15,
     "metadata": {},
     "output_type": "execute_result"
    }
   ],
   "source": [
    "len(mriqc)"
   ]
  },
  {
   "cell_type": "markdown",
   "id": "d2f5ee75",
   "metadata": {},
   "source": [
    "Turn to long format"
   ]
  },
  {
   "cell_type": "code",
   "execution_count": 16,
   "id": "3fc4b50e-52e0-4a1e-856a-2510b15db329",
   "metadata": {},
   "outputs": [
    {
     "data": {
      "text/html": [
       "<div>\n",
       "<style scoped>\n",
       "    .dataframe tbody tr th:only-of-type {\n",
       "        vertical-align: middle;\n",
       "    }\n",
       "\n",
       "    .dataframe tbody tr th {\n",
       "        vertical-align: top;\n",
       "    }\n",
       "\n",
       "    .dataframe thead th {\n",
       "        text-align: right;\n",
       "    }\n",
       "</style>\n",
       "<table border=\"1\" class=\"dataframe\">\n",
       "  <thead>\n",
       "    <tr style=\"text-align: right;\">\n",
       "      <th></th>\n",
       "      <th>participant_id</th>\n",
       "      <th>run</th>\n",
       "      <th>value</th>\n",
       "    </tr>\n",
       "  </thead>\n",
       "  <tbody>\n",
       "    <tr>\n",
       "      <th>0</th>\n",
       "      <td>sub-SCN101</td>\n",
       "      <td>SR - Run 1</td>\n",
       "      <td>good</td>\n",
       "    </tr>\n",
       "    <tr>\n",
       "      <th>1</th>\n",
       "      <td>sub-SCN102</td>\n",
       "      <td>SR - Run 1</td>\n",
       "      <td>good</td>\n",
       "    </tr>\n",
       "    <tr>\n",
       "      <th>2</th>\n",
       "      <td>sub-SCN103</td>\n",
       "      <td>SR - Run 1</td>\n",
       "      <td>good</td>\n",
       "    </tr>\n",
       "    <tr>\n",
       "      <th>3</th>\n",
       "      <td>sub-SCN104</td>\n",
       "      <td>SR - Run 1</td>\n",
       "      <td>good</td>\n",
       "    </tr>\n",
       "    <tr>\n",
       "      <th>4</th>\n",
       "      <td>sub-SCN105</td>\n",
       "      <td>SR - Run 1</td>\n",
       "      <td>good</td>\n",
       "    </tr>\n",
       "  </tbody>\n",
       "</table>\n",
       "</div>"
      ],
      "text/plain": [
       "  participant_id         run value\n",
       "0     sub-SCN101  SR - Run 1  good\n",
       "1     sub-SCN102  SR - Run 1  good\n",
       "2     sub-SCN103  SR - Run 1  good\n",
       "3     sub-SCN104  SR - Run 1  good\n",
       "4     sub-SCN105  SR - Run 1  good"
      ]
     },
     "execution_count": 16,
     "metadata": {},
     "output_type": "execute_result"
    }
   ],
   "source": [
    "mriqc_melt = pd.melt(mriqc.reset_index(), id_vars='participant_id', var_name='run')\n",
    "mriqc_melt.head()"
   ]
  },
  {
   "cell_type": "markdown",
   "id": "cda0e39b",
   "metadata": {},
   "source": [
    "## Visualize MRI QC Metadata"
   ]
  },
  {
   "cell_type": "markdown",
   "id": "87555922",
   "metadata": {},
   "source": [
    "### All MRI QC values"
   ]
  },
  {
   "cell_type": "code",
   "execution_count": 17,
   "id": "ff901793-cdc5-480b-840f-5ed4ddb4a9e0",
   "metadata": {},
   "outputs": [
    {
     "data": {
      "text/plain": [
       "<Axes: xlabel='run,value'>"
      ]
     },
     "execution_count": 17,
     "metadata": {},
     "output_type": "execute_result"
    },
    {
     "data": {
      "image/png": "[encoded data removed]",
      "text/plain": [
       "<Figure size 640x480 with 1 Axes>"
      ]
     },
     "metadata": {},
     "output_type": "display_data"
    }
   ],
   "source": [
    "mriqc_melt.groupby('run')['value'].value_counts().plot.bar()"
   ]
  },
  {
   "cell_type": "markdown",
   "id": "cf3266f5",
   "metadata": {},
   "source": [
    "Count the number of participants that are being completly excluded because none of their scan data is usable:"
   ]
  },
  {
   "cell_type": "code",
   "execution_count": 18,
   "id": "0bb4f7de",
   "metadata": {},
   "outputs": [
    {
     "data": {
      "text/plain": [
       "17"
      ]
     },
     "execution_count": 18,
     "metadata": {},
     "output_type": "execute_result"
    }
   ],
   "source": [
    "len(mriqc_melt[mriqc_melt['value'] != 'good']['participant_id'].unique())"
   ]
  },
  {
   "cell_type": "markdown",
   "id": "e55eab83",
   "metadata": {},
   "source": [
    "### Number of good scans"
   ]
  },
  {
   "cell_type": "code",
   "execution_count": 19,
   "id": "3b5c59ff-e51f-4a32-916b-0ff298355311",
   "metadata": {},
   "outputs": [],
   "source": [
    "mriqc_melt_good = mriqc_melt[mriqc_melt['value'] == 'good']"
   ]
  },
  {
   "cell_type": "code",
   "execution_count": 20,
   "id": "e436aa70",
   "metadata": {},
   "outputs": [
    {
     "data": {
      "text/plain": [
       "<Axes: xlabel='run,value'>"
      ]
     },
     "execution_count": 20,
     "metadata": {},
     "output_type": "execute_result"
    },
    {
     "data": {
      "image/png": "[encoded data removed]",
      "text/plain": [
       "<Figure size 640x480 with 1 Axes>"
      ]
     },
     "metadata": {},
     "output_type": "display_data"
    }
   ],
   "source": [
    "mriqc_melt_good.groupby('run')['value'].value_counts().plot.bar()"
   ]
  },
  {
   "cell_type": "markdown",
   "id": "f1d6b580",
   "metadata": {},
   "source": [
    "### Visualize demographics"
   ]
  },
  {
   "cell_type": "code",
   "execution_count": 21,
   "id": "22f2bb97",
   "metadata": {},
   "outputs": [],
   "source": [
    "fmriprep_demo_qc = fmriprep_demo[fmriprep_demo['participant_id'].isin(mriqc_melt_good['participant_id'].unique())]\n"
   ]
  },
  {
   "cell_type": "code",
   "execution_count": 22,
   "id": "cad1feec",
   "metadata": {},
   "outputs": [
    {
     "data": {
      "image/png": "[encoded data removed]",
      "text/plain": [
       "<Figure size 1000x400 with 3 Axes>"
      ]
     },
     "metadata": {},
     "output_type": "display_data"
    }
   ],
   "source": [
    "plt.figure(figsize=(10,4))\n",
    "\n",
    "plt.subplot(1, 3, 1)\n",
    "ax = sns.histplot(fmriprep_demo_qc, x='group')\n",
    "\n",
    "plt.subplot(1, 3, 2)\n",
    "sns.histplot(fmriprep_demo_qc, x='age', hue='group', legend=False)\n",
    "\n",
    "plt.subplot(1, 3, 3)\n",
    "ax = sns.histplot(fmriprep_demo_qc, x='gender', hue='group')\n",
    "sns.move_legend(ax, \"upper left\", bbox_to_anchor=(1, 1))\n",
    "plt.subplots_adjust(wspace = 0.65)"
   ]
  },
  {
   "cell_type": "markdown",
   "id": "ea7bd2e2",
   "metadata": {},
   "source": [
    "## Export \"Good\" MRI QC Participant and Run Info"
   ]
  },
  {
   "cell_type": "code",
   "execution_count": 23,
   "id": "da2d62bf",
   "metadata": {},
   "outputs": [],
   "source": [
    "mriqc_melt_good[['participant_id','run']].to_csv(proj_dir+'derivatives/participants-qc.csv', \n",
    "                                                 index=False)"
   ]
  },
  {
   "cell_type": "markdown",
   "id": "31b4c441",
   "metadata": {},
   "source": [
    "***\n",
    "\n",
    "# Behavioral QC\n",
    "The task programming had an error which would show the participant incorrect options for their own preferences (e.g. would show \"like animals\", when the participant said they didn't like animals). We will remove participants for which this occurred a lot (more than 5 trial)."
   ]
  },
  {
   "cell_type": "markdown",
   "id": "9dffe9b7",
   "metadata": {},
   "source": [
    "## Import Task Audit Data\n",
    "This data comes from another script which examine the output of each task run for each participant, and calculates the number of errors per participant. An error is defined as when an item was shown as the incorrect valence that the participant indicated in their survey. For example, display \"I like animals\", when the participant had said that they do not like animals. "
   ]
  },
  {
   "cell_type": "code",
   "execution_count": 24,
   "id": "d060b5b8",
   "metadata": {},
   "outputs": [
    {
     "data": {
      "text/html": [
       "<div>\n",
       "<style scoped>\n",
       "    .dataframe tbody tr th:only-of-type {\n",
       "        vertical-align: middle;\n",
       "    }\n",
       "\n",
       "    .dataframe tbody tr th {\n",
       "        vertical-align: top;\n",
       "    }\n",
       "\n",
       "    .dataframe thead th {\n",
       "        text-align: right;\n",
       "    }\n",
       "</style>\n",
       "<table border=\"1\" class=\"dataframe\">\n",
       "  <thead>\n",
       "    <tr style=\"text-align: right;\">\n",
       "      <th></th>\n",
       "      <th>num_errors</th>\n",
       "    </tr>\n",
       "  </thead>\n",
       "  <tbody>\n",
       "    <tr>\n",
       "      <th>SCN_101</th>\n",
       "      <td>0</td>\n",
       "    </tr>\n",
       "    <tr>\n",
       "      <th>SCN_102</th>\n",
       "      <td>0</td>\n",
       "    </tr>\n",
       "    <tr>\n",
       "      <th>SCN_103</th>\n",
       "      <td>0</td>\n",
       "    </tr>\n",
       "    <tr>\n",
       "      <th>SCN_104</th>\n",
       "      <td>0</td>\n",
       "    </tr>\n",
       "    <tr>\n",
       "      <th>SCN_105</th>\n",
       "      <td>0</td>\n",
       "    </tr>\n",
       "  </tbody>\n",
       "</table>\n",
       "</div>"
      ],
      "text/plain": [
       "         num_errors\n",
       "SCN_101           0\n",
       "SCN_102           0\n",
       "SCN_103           0\n",
       "SCN_104           0\n",
       "SCN_105           0"
      ]
     },
     "execution_count": 24,
     "metadata": {},
     "output_type": "execute_result"
    }
   ],
   "source": [
    "task_audit = pd.read_csv(os.path.join(proj_dir, 'derivatives', 'task_socialreward', 'data', \n",
    "                                      'answer_errors_sum.csv'), index_col=0)\n",
    "task_audit.head()"
   ]
  },
  {
   "cell_type": "markdown",
   "id": "ec35e2ad",
   "metadata": {},
   "source": [
    "Count the number of participants that will be excluded because of errors in their task"
   ]
  },
  {
   "cell_type": "code",
   "execution_count": 25,
   "id": "c987735d",
   "metadata": {},
   "outputs": [
    {
     "data": {
      "text/plain": [
       "39"
      ]
     },
     "execution_count": 25,
     "metadata": {},
     "output_type": "execute_result"
    }
   ],
   "source": [
    "len(task_audit[task_audit['num_errors'] > 0])"
   ]
  },
  {
   "cell_type": "markdown",
   "id": "d2f80c43",
   "metadata": {},
   "source": [
    "## Minimum Errors\n",
    "\n",
    "Create a participant list with participants who had minimum errors. "
   ]
  },
  {
   "cell_type": "code",
   "execution_count": 26,
   "id": "1eb71255",
   "metadata": {},
   "outputs": [],
   "source": [
    "# Filter subjects for no errors\n",
    "task_audit_subjs_min_err = task_audit.index[task_audit['num_errors'] < 6]\n",
    "\n",
    "# Change subject labels to match MRI data\n",
    "task_audit_subjs_min_err = ['sub-'+x.replace('_','') for x in task_audit_subjs_min_err]\n"
   ]
  },
  {
   "cell_type": "markdown",
   "id": "359bb825",
   "metadata": {},
   "source": [
    "Filter the MRI QC passed subjects with the behavioral QC passed subjects"
   ]
  },
  {
   "cell_type": "markdown",
   "id": "03111472",
   "metadata": {},
   "source": [
    "### Visualize Errors"
   ]
  },
  {
   "cell_type": "code",
   "execution_count": 27,
   "id": "4344355d",
   "metadata": {},
   "outputs": [],
   "source": [
    "mriqc_melt_good_min_err = mriqc_melt_good[mriqc_melt_good['participant_id'].isin(task_audit_subjs_min_err)]\n"
   ]
  },
  {
   "cell_type": "code",
   "execution_count": 28,
   "id": "92655402",
   "metadata": {},
   "outputs": [
    {
     "data": {
      "text/plain": [
       "<Axes: xlabel='run,value'>"
      ]
     },
     "execution_count": 28,
     "metadata": {},
     "output_type": "execute_result"
    },
    {
     "data": {
      "image/png": "[encoded data removed]",
      "text/plain": [
       "<Figure size 640x480 with 1 Axes>"
      ]
     },
     "metadata": {},
     "output_type": "display_data"
    }
   ],
   "source": [
    "mriqc_melt_good_min_err.groupby('run')['value'].value_counts().plot.bar()\n"
   ]
  },
  {
   "cell_type": "markdown",
   "id": "51bce093",
   "metadata": {},
   "source": [
    "### Visualize Demographics"
   ]
  },
  {
   "cell_type": "code",
   "execution_count": 29,
   "id": "72c375cc",
   "metadata": {},
   "outputs": [],
   "source": [
    "fmriprep_demo_qc_min = fmriprep_demo[fmriprep_demo['participant_id'].isin(mriqc_melt_good_min_err['participant_id'].unique())]\n"
   ]
  },
  {
   "cell_type": "code",
   "execution_count": 30,
   "id": "a7e8559f",
   "metadata": {},
   "outputs": [
    {
     "data": {
      "image/png": "[encoded data removed]",
      "text/plain": [
       "<Figure size 1000x400 with 3 Axes>"
      ]
     },
     "metadata": {},
     "output_type": "display_data"
    }
   ],
   "source": [
    "plt.figure(figsize=(10,4))\n",
    "\n",
    "plt.subplot(1, 3, 1)\n",
    "ax = sns.histplot(fmriprep_demo_qc_min, x='group')\n",
    "\n",
    "plt.subplot(1, 3, 2)\n",
    "sns.histplot(fmriprep_demo_qc_min, x='age', hue='group', legend=False)\n",
    "\n",
    "plt.subplot(1, 3, 3)\n",
    "ax = sns.histplot(fmriprep_demo_qc_min, x='gender', hue='group')\n",
    "sns.move_legend(ax, \"upper left\", bbox_to_anchor=(1, 1))\n",
    "plt.subplots_adjust(wspace = 0.65)"
   ]
  },
  {
   "cell_type": "markdown",
   "id": "1397fa23",
   "metadata": {},
   "source": [
    "### Export"
   ]
  },
  {
   "cell_type": "code",
   "execution_count": 31,
   "id": "09e8f6ef",
   "metadata": {},
   "outputs": [],
   "source": [
    "mriqc_melt_good_min_err[['participant_id','run']].to_csv(proj_dir+'derivatives/participants-qc-min_task_errors.csv', \n",
    "                                                      index=False)"
   ]
  },
  {
   "cell_type": "code",
   "execution_count": 32,
   "id": "6ba091d7",
   "metadata": {},
   "outputs": [
    {
     "data": {
      "text/plain": [
       "99"
      ]
     },
     "execution_count": 32,
     "metadata": {},
     "output_type": "execute_result"
    }
   ],
   "source": [
    "len(mriqc_melt_good_min_err['participant_id'].unique())"
   ]
  },
  {
   "cell_type": "markdown",
   "id": "8de8c005",
   "metadata": {},
   "source": [
    "## No Errors"
   ]
  },
  {
   "cell_type": "code",
   "execution_count": 33,
   "id": "9a9eee23",
   "metadata": {},
   "outputs": [],
   "source": [
    "# Filter subjects for minimum errors\n",
    "task_audit_subjs_no_err = task_audit.index[task_audit['num_errors'] == 0]\n",
    "\n",
    "# Change subject labels to match MRI data\n",
    "task_audit_subjs_no_err = ['sub-'+x.replace('_','') for x in task_audit_subjs_no_err]\n",
    "\n",
    "\n"
   ]
  },
  {
   "cell_type": "markdown",
   "id": "8aceadab",
   "metadata": {},
   "source": [
    "### Visualize Errors"
   ]
  },
  {
   "cell_type": "code",
   "execution_count": 34,
   "id": "b83dac81",
   "metadata": {},
   "outputs": [
    {
     "data": {
      "text/plain": [
       "<Axes: xlabel='run,value'>"
      ]
     },
     "execution_count": 34,
     "metadata": {},
     "output_type": "execute_result"
    },
    {
     "data": {
      "image/png": "[encoded data removed]",
      "text/plain": [
       "<Figure size 640x480 with 1 Axes>"
      ]
     },
     "metadata": {},
     "output_type": "display_data"
    }
   ],
   "source": [
    "mriqc_melt_good_no_err = mriqc_melt_good[mriqc_melt_good['participant_id'].isin(task_audit_subjs_no_err)]\n",
    "mriqc_melt_good_no_err.groupby('run')['value'].value_counts().plot.bar()\n"
   ]
  },
  {
   "cell_type": "markdown",
   "id": "6f90b869",
   "metadata": {},
   "source": [
    "### Visualize Demographics"
   ]
  },
  {
   "cell_type": "code",
   "execution_count": 35,
   "id": "4313fd33",
   "metadata": {},
   "outputs": [],
   "source": [
    "fmriprep_demo_qc_no = fmriprep_demo[fmriprep_demo['participant_id'].isin(mriqc_melt_good_no_err['participant_id'].unique())]\n"
   ]
  },
  {
   "cell_type": "code",
   "execution_count": 36,
   "id": "28889a13",
   "metadata": {},
   "outputs": [
    {
     "data": {
      "image/png": "[encoded data removed]",
      "text/plain": [
       "<Figure size 1000x400 with 3 Axes>"
      ]
     },
     "metadata": {},
     "output_type": "display_data"
    }
   ],
   "source": [
    "plt.figure(figsize=(10,4))\n",
    "\n",
    "plt.subplot(1, 3, 1)\n",
    "ax = sns.histplot(fmriprep_demo_qc_no, x='group')\n",
    "\n",
    "plt.subplot(1, 3, 2)\n",
    "sns.histplot(fmriprep_demo_qc_no, x='age', hue='group', legend=False)\n",
    "\n",
    "plt.subplot(1, 3, 3)\n",
    "ax = sns.histplot(fmriprep_demo_qc_no, x='gender', hue='group')\n",
    "sns.move_legend(ax, \"upper left\", bbox_to_anchor=(1, 1))\n",
    "plt.subplots_adjust(wspace = 0.65)\n",
    "\n"
   ]
  },
  {
   "cell_type": "markdown",
   "id": "854cd299",
   "metadata": {},
   "source": [
    "### Export"
   ]
  },
  {
   "cell_type": "code",
   "execution_count": 37,
   "id": "26cf2658",
   "metadata": {},
   "outputs": [
    {
     "data": {
      "text/plain": [
       "67"
      ]
     },
     "execution_count": 37,
     "metadata": {},
     "output_type": "execute_result"
    }
   ],
   "source": [
    "mriqc_melt_good_no_err[['participant_id','run']].to_csv(proj_dir+'derivatives/participants-qc-no_task_errors.csv', \n",
    "                                                      index=False)\n",
    "\n",
    "len(mriqc_melt_good_no_err['participant_id'].unique())\n"
   ]
  }
 ],
 "metadata": {
  "kernelspec": {
   "display_name": "Python 3 (ipykernel)",
   "language": "python",
   "name": "python3"
  },
  "language_info": {
   "codemirror_mode": {
    "name": "ipython",
    "version": 3
   },
   "file_extension": ".py",
   "mimetype": "text/x-python",
   "name": "python",
   "nbconvert_exporter": "python",
   "pygments_lexer": "ipython3",
   "version": "3.11.5"
  }
 },
 "nbformat": 4,
 "nbformat_minor": 5
}
