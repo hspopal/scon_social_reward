{
 "cells": [
  {
   "cell_type": "markdown",
   "id": "e849d3dd-850e-46a8-b21b-35eccda406d8",
   "metadata": {},
   "source": [
    "# Participants Quality Control\n",
    "\n",
    "**Author**: Haroon Popal"
   ]
  },
  {
   "cell_type": "markdown",
   "id": "c0143a78-6a9d-4f37-afb3-4d972e9776f5",
   "metadata": {},
   "source": [
    "This notebook will create a list of participant and their run data for the social reward task that meets quality control thresholds. Participants may be exluced for excessive motion and/or poor MRI run quality, or if there were issues with their task run data."
   ]
  },
  {
   "cell_type": "code",
   "execution_count": 2,
   "id": "b9be1a58-d66b-413b-a3c8-dd2bab7cdf47",
   "metadata": {},
   "outputs": [],
   "source": [
    "import os\n",
    "import pandas as pd"
   ]
  },
  {
   "cell_type": "code",
   "execution_count": 3,
   "id": "0986a6bd-28dc-461b-852c-2b32dc7b1724",
   "metadata": {},
   "outputs": [],
   "source": [
    "proj_dir = '/Users/hpopal/Google Drive/My Drive/dscn_lab/projects/scon_social_reward/'\n",
    "\n",
    "os.chdir(proj_dir)"
   ]
  },
  {
   "cell_type": "markdown",
   "id": "ab646fbd",
   "metadata": {},
   "source": [
    "# Imaging QC"
   ]
  },
  {
   "cell_type": "code",
   "execution_count": 4,
   "id": "79d5a472-113d-4a11-ae81-e96dc16a37a7",
   "metadata": {},
   "outputs": [
    {
     "data": {
      "text/html": [
       "<div>\n",
       "<style scoped>\n",
       "    .dataframe tbody tr th:only-of-type {\n",
       "        vertical-align: middle;\n",
       "    }\n",
       "\n",
       "    .dataframe tbody tr th {\n",
       "        vertical-align: top;\n",
       "    }\n",
       "\n",
       "    .dataframe thead th {\n",
       "        text-align: right;\n",
       "    }\n",
       "</style>\n",
       "<table border=\"1\" class=\"dataframe\">\n",
       "  <thead>\n",
       "    <tr style=\"text-align: right;\">\n",
       "      <th></th>\n",
       "      <th>Anatomical</th>\n",
       "      <th>192x512x512</th>\n",
       "      <th>Unnamed: 3</th>\n",
       "      <th>Unnamed: 4</th>\n",
       "      <th>Unnamed: 5</th>\n",
       "      <th>HBN movie - Run 1</th>\n",
       "      <th>Unnamed: 7</th>\n",
       "      <th>NS - Run 1</th>\n",
       "      <th>Unnamed: 9</th>\n",
       "      <th>NS - Run 2</th>\n",
       "      <th>...</th>\n",
       "      <th>Unnamed: 17</th>\n",
       "      <th>SR - Run 3</th>\n",
       "      <th>Unnamed: 19</th>\n",
       "      <th>SR - Run 4</th>\n",
       "      <th>Unnamed: 21</th>\n",
       "      <th>Unnamed: 22</th>\n",
       "      <th>Unnamed: 23</th>\n",
       "      <th>Unnamed: 24</th>\n",
       "      <th>Unnamed: 25</th>\n",
       "      <th>Unnamed: 26</th>\n",
       "    </tr>\n",
       "    <tr>\n",
       "      <th></th>\n",
       "      <th></th>\n",
       "      <th></th>\n",
       "      <th></th>\n",
       "      <th></th>\n",
       "      <th></th>\n",
       "      <th></th>\n",
       "      <th></th>\n",
       "      <th></th>\n",
       "      <th></th>\n",
       "      <th></th>\n",
       "      <th></th>\n",
       "      <th></th>\n",
       "      <th></th>\n",
       "      <th></th>\n",
       "      <th></th>\n",
       "      <th></th>\n",
       "      <th></th>\n",
       "      <th></th>\n",
       "      <th></th>\n",
       "      <th></th>\n",
       "      <th></th>\n",
       "    </tr>\n",
       "  </thead>\n",
       "  <tbody>\n",
       "    <tr>\n",
       "      <th>SID</th>\n",
       "      <td>T1w</td>\n",
       "      <td>Dimension #s</td>\n",
       "      <td>Norm1</td>\n",
       "      <td>Norm2</td>\n",
       "      <td>Norm3</td>\n",
       "      <td>Alignment</td>\n",
       "      <td>Time: # of Volumes</td>\n",
       "      <td>Alignment</td>\n",
       "      <td>Time: # of Volumes</td>\n",
       "      <td>Alignment</td>\n",
       "      <td>...</td>\n",
       "      <td>Time: # of Volumes</td>\n",
       "      <td>Alignment</td>\n",
       "      <td>Time: # of Volumes</td>\n",
       "      <td>Alignment</td>\n",
       "      <td>Time: # of Volumes</td>\n",
       "      <td>Error Messages</td>\n",
       "      <td>Checked Reprocessed Data?</td>\n",
       "      <td>Overall Notes</td>\n",
       "      <td>frontal drop-off rating (1=least, 5=most)</td>\n",
       "      <td>wrap-around artifact</td>\n",
       "    </tr>\n",
       "    <tr>\n",
       "      <th>SCN_101</th>\n",
       "      <td>good</td>\n",
       "      <td>192x512x512</td>\n",
       "      <td>good</td>\n",
       "      <td>good</td>\n",
       "      <td>good</td>\n",
       "      <td>good</td>\n",
       "      <td>170</td>\n",
       "      <td>good</td>\n",
       "      <td>518.75</td>\n",
       "      <td>good</td>\n",
       "      <td>...</td>\n",
       "      <td>300</td>\n",
       "      <td>good</td>\n",
       "      <td>300</td>\n",
       "      <td>good</td>\n",
       "      <td>300</td>\n",
       "      <td>Node Name: fmriprep_wf.single_subject_SCN101_w...</td>\n",
       "      <td>TRUE</td>\n",
       "      <td>smudging in NS 2 and SR 2, general pixellation...</td>\n",
       "      <td>5</td>\n",
       "      <td>yes</td>\n",
       "    </tr>\n",
       "    <tr>\n",
       "      <th>SCN_102</th>\n",
       "      <td>good</td>\n",
       "      <td>192x512x512</td>\n",
       "      <td>good</td>\n",
       "      <td>good</td>\n",
       "      <td>good</td>\n",
       "      <td>good</td>\n",
       "      <td>170</td>\n",
       "      <td>good</td>\n",
       "      <td>518.75</td>\n",
       "      <td>good</td>\n",
       "      <td>...</td>\n",
       "      <td>300</td>\n",
       "      <td>good</td>\n",
       "      <td>300</td>\n",
       "      <td>good</td>\n",
       "      <td>300</td>\n",
       "      <td>No errors to report!</td>\n",
       "      <td>TRUE</td>\n",
       "      <td>pixellation in all moving runs</td>\n",
       "      <td>1</td>\n",
       "      <td>no</td>\n",
       "    </tr>\n",
       "    <tr>\n",
       "      <th>SCN_103</th>\n",
       "      <td>good</td>\n",
       "      <td>192x512x512</td>\n",
       "      <td>good</td>\n",
       "      <td>good</td>\n",
       "      <td>good</td>\n",
       "      <td>good</td>\n",
       "      <td>170</td>\n",
       "      <td>good</td>\n",
       "      <td>518.75</td>\n",
       "      <td>good</td>\n",
       "      <td>...</td>\n",
       "      <td>300</td>\n",
       "      <td>good</td>\n",
       "      <td>300</td>\n",
       "      <td>good</td>\n",
       "      <td>300</td>\n",
       "      <td>No errors to report!</td>\n",
       "      <td>TRUE</td>\n",
       "      <td>NaN</td>\n",
       "      <td>4</td>\n",
       "      <td>yes</td>\n",
       "    </tr>\n",
       "    <tr>\n",
       "      <th>SCN_104</th>\n",
       "      <td>good</td>\n",
       "      <td>192x512x512</td>\n",
       "      <td>good</td>\n",
       "      <td>good</td>\n",
       "      <td>good</td>\n",
       "      <td>good</td>\n",
       "      <td>170</td>\n",
       "      <td>good</td>\n",
       "      <td>518.75</td>\n",
       "      <td>good</td>\n",
       "      <td>...</td>\n",
       "      <td>300</td>\n",
       "      <td>good</td>\n",
       "      <td>300</td>\n",
       "      <td>good</td>\n",
       "      <td>300</td>\n",
       "      <td>No errors to report!</td>\n",
       "      <td>TRUE</td>\n",
       "      <td>most have some smudges, but small enough (NS 1...</td>\n",
       "      <td>2</td>\n",
       "      <td>yes</td>\n",
       "    </tr>\n",
       "  </tbody>\n",
       "</table>\n",
       "<p>5 rows × 26 columns</p>\n",
       "</div>"
      ],
      "text/plain": [
       "        Anatomical   192x512x512 Unnamed: 3 Unnamed: 4 Unnamed: 5  \\\n",
       "                                                                    \n",
       "SID            T1w  Dimension #s      Norm1      Norm2      Norm3   \n",
       "SCN_101       good   192x512x512       good       good       good   \n",
       "SCN_102       good   192x512x512       good       good       good   \n",
       "SCN_103       good   192x512x512       good       good       good   \n",
       "SCN_104       good   192x512x512       good       good       good   \n",
       "\n",
       "        HBN movie - Run 1           Unnamed: 7 NS - Run 1          Unnamed: 9  \\\n",
       "                                                                                \n",
       "SID             Alignment  Time: # of Volumes   Alignment  Time: # of Volumes   \n",
       "SCN_101              good                  170       good              518.75   \n",
       "SCN_102              good                  170       good              518.75   \n",
       "SCN_103              good                  170       good              518.75   \n",
       "SCN_104              good                  170       good              518.75   \n",
       "\n",
       "        NS - Run 2  ...         Unnamed: 17 SR - Run 3         Unnamed: 19  \\\n",
       "                    ...                                                      \n",
       "SID      Alignment  ...  Time: # of Volumes  Alignment  Time: # of Volumes   \n",
       "SCN_101       good  ...                 300       good                 300   \n",
       "SCN_102       good  ...                 300       good                 300   \n",
       "SCN_103       good  ...                 300       good                 300   \n",
       "SCN_104       good  ...                 300       good                 300   \n",
       "\n",
       "        SR - Run 4         Unnamed: 21  \\\n",
       "                                         \n",
       "SID      Alignment  Time: # of Volumes   \n",
       "SCN_101       good                 300   \n",
       "SCN_102       good                 300   \n",
       "SCN_103       good                 300   \n",
       "SCN_104       good                 300   \n",
       "\n",
       "                                               Unnamed: 22  \\\n",
       "                                                             \n",
       "SID                                         Error Messages   \n",
       "SCN_101  Node Name: fmriprep_wf.single_subject_SCN101_w...   \n",
       "SCN_102                               No errors to report!   \n",
       "SCN_103                               No errors to report!   \n",
       "SCN_104                               No errors to report!   \n",
       "\n",
       "                       Unnamed: 23  \\\n",
       "                                     \n",
       "SID      Checked Reprocessed Data?   \n",
       "SCN_101                       TRUE   \n",
       "SCN_102                       TRUE   \n",
       "SCN_103                       TRUE   \n",
       "SCN_104                       TRUE   \n",
       "\n",
       "                                               Unnamed: 24  \\\n",
       "                                                             \n",
       "SID                                          Overall Notes   \n",
       "SCN_101  smudging in NS 2 and SR 2, general pixellation...   \n",
       "SCN_102                     pixellation in all moving runs   \n",
       "SCN_103                                                NaN   \n",
       "SCN_104  most have some smudges, but small enough (NS 1...   \n",
       "\n",
       "                                       Unnamed: 25           Unnamed: 26  \n",
       "                                                                          \n",
       "SID      frontal drop-off rating (1=least, 5=most)  wrap-around artifact  \n",
       "SCN_101                                          5                   yes  \n",
       "SCN_102                                          1                    no  \n",
       "SCN_103                                          4                   yes  \n",
       "SCN_104                                          2                   yes  \n",
       "\n",
       "[5 rows x 26 columns]"
      ]
     },
     "execution_count": 4,
     "metadata": {},
     "output_type": "execute_result"
    }
   ],
   "source": [
    "mriqc_raw = pd.read_csv(proj_dir+'misc/SCN fMRI Master Log - QC.csv', index_col=0)\n",
    "mriqc_raw.head()"
   ]
  },
  {
   "cell_type": "code",
   "execution_count": 5,
   "id": "6f73754f-d6af-44b0-9a29-37251bbd28bc",
   "metadata": {},
   "outputs": [
    {
     "data": {
      "text/html": [
       "<div>\n",
       "<style scoped>\n",
       "    .dataframe tbody tr th:only-of-type {\n",
       "        vertical-align: middle;\n",
       "    }\n",
       "\n",
       "    .dataframe tbody tr th {\n",
       "        vertical-align: top;\n",
       "    }\n",
       "\n",
       "    .dataframe thead th {\n",
       "        text-align: right;\n",
       "    }\n",
       "</style>\n",
       "<table border=\"1\" class=\"dataframe\">\n",
       "  <thead>\n",
       "    <tr style=\"text-align: right;\">\n",
       "      <th></th>\n",
       "      <th>SR - Run 1</th>\n",
       "      <th>SR - Run 2</th>\n",
       "      <th>SR - Run 3</th>\n",
       "      <th>SR - Run 4</th>\n",
       "    </tr>\n",
       "    <tr>\n",
       "      <th>participant_id</th>\n",
       "      <th></th>\n",
       "      <th></th>\n",
       "      <th></th>\n",
       "      <th></th>\n",
       "    </tr>\n",
       "  </thead>\n",
       "  <tbody>\n",
       "    <tr>\n",
       "      <th>sub-SCN101</th>\n",
       "      <td>good</td>\n",
       "      <td>good</td>\n",
       "      <td>good</td>\n",
       "      <td>good</td>\n",
       "    </tr>\n",
       "    <tr>\n",
       "      <th>sub-SCN102</th>\n",
       "      <td>good</td>\n",
       "      <td>good</td>\n",
       "      <td>good</td>\n",
       "      <td>good</td>\n",
       "    </tr>\n",
       "    <tr>\n",
       "      <th>sub-SCN103</th>\n",
       "      <td>good</td>\n",
       "      <td>good</td>\n",
       "      <td>good</td>\n",
       "      <td>good</td>\n",
       "    </tr>\n",
       "    <tr>\n",
       "      <th>sub-SCN104</th>\n",
       "      <td>good</td>\n",
       "      <td>good</td>\n",
       "      <td>good</td>\n",
       "      <td>good</td>\n",
       "    </tr>\n",
       "    <tr>\n",
       "      <th>sub-SCN105</th>\n",
       "      <td>good</td>\n",
       "      <td>good</td>\n",
       "      <td>good</td>\n",
       "      <td>good</td>\n",
       "    </tr>\n",
       "  </tbody>\n",
       "</table>\n",
       "</div>"
      ],
      "text/plain": [
       "               SR - Run 1 SR - Run 2 SR - Run 3 SR - Run 4\n",
       "participant_id                                            \n",
       "sub-SCN101           good       good       good       good\n",
       "sub-SCN102           good       good       good       good\n",
       "sub-SCN103           good       good       good       good\n",
       "sub-SCN104           good       good       good       good\n",
       "sub-SCN105           good       good       good       good"
      ]
     },
     "execution_count": 5,
     "metadata": {},
     "output_type": "execute_result"
    }
   ],
   "source": [
    "# Drop irrelevant rows\n",
    "mriqc = mriqc_raw.drop([x for x in mriqc_raw.index if not str(x).startswith('SCN')])\n",
    "\n",
    "# Remove irrelvant columns\n",
    "irr_col_names = [x for x in mriqc.columns if not x.startswith('SR - ')]\n",
    "mriqc = mriqc.drop(columns=irr_col_names)\n",
    "\n",
    "# Add fmriprep sub- prefix\n",
    "mriqc.index = 'sub-'+ mriqc.index\n",
    "\n",
    "# Remove underscore for participant ID\n",
    "mriqc.index = [sub.replace('_', '') for sub in mriqc.index]\n",
    "\n",
    "# Name index column\n",
    "mriqc.index.name = 'participant_id'\n",
    "\n",
    "mriqc.head()"
   ]
  },
  {
   "cell_type": "code",
   "execution_count": 6,
   "id": "33f76b3d-bc1b-4831-b698-38f17f7a6492",
   "metadata": {},
   "outputs": [],
   "source": [
    "# Clean up extra spaces at the end of column values\n",
    "for col in mriqc.columns:\n",
    "    mriqc[col] = mriqc[col].str.strip()"
   ]
  },
  {
   "cell_type": "code",
   "execution_count": 7,
   "id": "3fc4b50e-52e0-4a1e-856a-2510b15db329",
   "metadata": {},
   "outputs": [
    {
     "data": {
      "text/html": [
       "<div>\n",
       "<style scoped>\n",
       "    .dataframe tbody tr th:only-of-type {\n",
       "        vertical-align: middle;\n",
       "    }\n",
       "\n",
       "    .dataframe tbody tr th {\n",
       "        vertical-align: top;\n",
       "    }\n",
       "\n",
       "    .dataframe thead th {\n",
       "        text-align: right;\n",
       "    }\n",
       "</style>\n",
       "<table border=\"1\" class=\"dataframe\">\n",
       "  <thead>\n",
       "    <tr style=\"text-align: right;\">\n",
       "      <th></th>\n",
       "      <th>participant_id</th>\n",
       "      <th>run</th>\n",
       "      <th>value</th>\n",
       "    </tr>\n",
       "  </thead>\n",
       "  <tbody>\n",
       "    <tr>\n",
       "      <th>0</th>\n",
       "      <td>sub-SCN101</td>\n",
       "      <td>SR - Run 1</td>\n",
       "      <td>good</td>\n",
       "    </tr>\n",
       "    <tr>\n",
       "      <th>1</th>\n",
       "      <td>sub-SCN102</td>\n",
       "      <td>SR - Run 1</td>\n",
       "      <td>good</td>\n",
       "    </tr>\n",
       "    <tr>\n",
       "      <th>2</th>\n",
       "      <td>sub-SCN103</td>\n",
       "      <td>SR - Run 1</td>\n",
       "      <td>good</td>\n",
       "    </tr>\n",
       "    <tr>\n",
       "      <th>3</th>\n",
       "      <td>sub-SCN104</td>\n",
       "      <td>SR - Run 1</td>\n",
       "      <td>good</td>\n",
       "    </tr>\n",
       "    <tr>\n",
       "      <th>4</th>\n",
       "      <td>sub-SCN105</td>\n",
       "      <td>SR - Run 1</td>\n",
       "      <td>good</td>\n",
       "    </tr>\n",
       "    <tr>\n",
       "      <th>...</th>\n",
       "      <td>...</td>\n",
       "      <td>...</td>\n",
       "      <td>...</td>\n",
       "    </tr>\n",
       "    <tr>\n",
       "      <th>447</th>\n",
       "      <td>sub-SCN250</td>\n",
       "      <td>SR - Run 4</td>\n",
       "      <td>good</td>\n",
       "    </tr>\n",
       "    <tr>\n",
       "      <th>448</th>\n",
       "      <td>sub-SCN251</td>\n",
       "      <td>SR - Run 4</td>\n",
       "      <td>save for meeting</td>\n",
       "    </tr>\n",
       "    <tr>\n",
       "      <th>449</th>\n",
       "      <td>sub-SCN253</td>\n",
       "      <td>SR - Run 4</td>\n",
       "      <td>good</td>\n",
       "    </tr>\n",
       "    <tr>\n",
       "      <th>450</th>\n",
       "      <td>sub-SCN254</td>\n",
       "      <td>SR - Run 4</td>\n",
       "      <td>bad</td>\n",
       "    </tr>\n",
       "    <tr>\n",
       "      <th>451</th>\n",
       "      <td>sub-SCN255</td>\n",
       "      <td>SR - Run 4</td>\n",
       "      <td>NaN</td>\n",
       "    </tr>\n",
       "  </tbody>\n",
       "</table>\n",
       "<p>452 rows × 3 columns</p>\n",
       "</div>"
      ],
      "text/plain": [
       "    participant_id         run             value\n",
       "0       sub-SCN101  SR - Run 1              good\n",
       "1       sub-SCN102  SR - Run 1              good\n",
       "2       sub-SCN103  SR - Run 1              good\n",
       "3       sub-SCN104  SR - Run 1              good\n",
       "4       sub-SCN105  SR - Run 1              good\n",
       "..             ...         ...               ...\n",
       "447     sub-SCN250  SR - Run 4              good\n",
       "448     sub-SCN251  SR - Run 4  save for meeting\n",
       "449     sub-SCN253  SR - Run 4              good\n",
       "450     sub-SCN254  SR - Run 4               bad\n",
       "451     sub-SCN255  SR - Run 4               NaN\n",
       "\n",
       "[452 rows x 3 columns]"
      ]
     },
     "execution_count": 7,
     "metadata": {},
     "output_type": "execute_result"
    }
   ],
   "source": [
    "mriqc_melt = pd.melt(mriqc.reset_index(), id_vars='participant_id', var_name='run')\n",
    "mriqc_melt"
   ]
  },
  {
   "cell_type": "code",
   "execution_count": 8,
   "id": "ff901793-cdc5-480b-840f-5ed4ddb4a9e0",
   "metadata": {},
   "outputs": [
    {
     "data": {
      "text/plain": [
       "<Axes: xlabel='run,value'>"
      ]
     },
     "execution_count": 8,
     "metadata": {},
     "output_type": "execute_result"
    },
    {
     "data": {
      "image/png": "[encoded data removed]",
      "text/plain": [
       "<Figure size 640x480 with 1 Axes>"
      ]
     },
     "metadata": {},
     "output_type": "display_data"
    }
   ],
   "source": [
    "mriqc_melt.groupby('run')['value'].value_counts().plot.bar()"
   ]
  },
  {
   "cell_type": "code",
   "execution_count": 9,
   "id": "3b5c59ff-e51f-4a32-916b-0ff298355311",
   "metadata": {},
   "outputs": [],
   "source": [
    "mriqc_melt_good = mriqc_melt[mriqc_melt['value'] == 'good']\n",
    "\n",
    "#mriqc_melt_good[['participant_id','run']].to_csv(proj_dir+'derivatives/participants_good.csv', index=False)"
   ]
  },
  {
   "cell_type": "code",
   "execution_count": 10,
   "id": "e436aa70",
   "metadata": {},
   "outputs": [
    {
     "data": {
      "text/plain": [
       "<Axes: xlabel='run,value'>"
      ]
     },
     "execution_count": 10,
     "metadata": {},
     "output_type": "execute_result"
    },
    {
     "data": {
      "image/png": "[encoded data removed]",
      "text/plain": [
       "<Figure size 640x480 with 1 Axes>"
      ]
     },
     "metadata": {},
     "output_type": "display_data"
    }
   ],
   "source": [
    "mriqc_melt_good.groupby('run')['value'].value_counts().plot.bar()"
   ]
  },
  {
   "cell_type": "markdown",
   "id": "31b4c441",
   "metadata": {},
   "source": [
    "# Behavioral QC\n",
    "The task programming had an error which would show the participant incorrect options for their own preferences (e.g. would show \"like animals\", when the participant said they didn't like animals). We will remove participants for which this occurred a lot (more than 5 trial)."
   ]
  },
  {
   "cell_type": "code",
   "execution_count": 12,
   "id": "d060b5b8",
   "metadata": {},
   "outputs": [
    {
     "data": {
      "text/html": [
       "<div>\n",
       "<style scoped>\n",
       "    .dataframe tbody tr th:only-of-type {\n",
       "        vertical-align: middle;\n",
       "    }\n",
       "\n",
       "    .dataframe tbody tr th {\n",
       "        vertical-align: top;\n",
       "    }\n",
       "\n",
       "    .dataframe thead th {\n",
       "        text-align: right;\n",
       "    }\n",
       "</style>\n",
       "<table border=\"1\" class=\"dataframe\">\n",
       "  <thead>\n",
       "    <tr style=\"text-align: right;\">\n",
       "      <th></th>\n",
       "      <th>num_errors</th>\n",
       "    </tr>\n",
       "  </thead>\n",
       "  <tbody>\n",
       "    <tr>\n",
       "      <th>SCN_101</th>\n",
       "      <td>0</td>\n",
       "    </tr>\n",
       "    <tr>\n",
       "      <th>SCN_102</th>\n",
       "      <td>0</td>\n",
       "    </tr>\n",
       "    <tr>\n",
       "      <th>SCN_103</th>\n",
       "      <td>0</td>\n",
       "    </tr>\n",
       "    <tr>\n",
       "      <th>SCN_104</th>\n",
       "      <td>0</td>\n",
       "    </tr>\n",
       "    <tr>\n",
       "      <th>SCN_105</th>\n",
       "      <td>0</td>\n",
       "    </tr>\n",
       "  </tbody>\n",
       "</table>\n",
       "</div>"
      ],
      "text/plain": [
       "         num_errors\n",
       "SCN_101           0\n",
       "SCN_102           0\n",
       "SCN_103           0\n",
       "SCN_104           0\n",
       "SCN_105           0"
      ]
     },
     "execution_count": 12,
     "metadata": {},
     "output_type": "execute_result"
    }
   ],
   "source": [
    "task_audit = pd.read_csv(os.path.join(proj_dir, 'derivatives', 'task_socialreward', 'data', \n",
    "                                      'answer_errors_sum.csv'), index_col=0)\n",
    "task_audit.head()"
   ]
  },
  {
   "cell_type": "markdown",
   "id": "5a5fba56",
   "metadata": {},
   "source": [
    "Create a list of subjects that had no task errors"
   ]
  },
  {
   "cell_type": "code",
   "execution_count": 18,
   "id": "1eb71255",
   "metadata": {},
   "outputs": [],
   "source": [
    "# Filter subjects for no errors\n",
    "task_audit_pass_subjs = task_audit.index[task_audit['num_errors'] == 0]\n",
    "\n",
    "# Change subject labels to match MRI data\n",
    "task_audit_pass_subjs = ['sub-'+x.replace('_','') for x in task_audit_pass_subjs]"
   ]
  },
  {
   "cell_type": "markdown",
   "id": "359bb825",
   "metadata": {},
   "source": [
    "Filter the MRI QC passed subjects with the behavioral QC passed subjects"
   ]
  },
  {
   "cell_type": "code",
   "execution_count": 21,
   "id": "4344355d",
   "metadata": {},
   "outputs": [],
   "source": [
    "mriqc_melt_good_bhav = mriqc_melt_good[mriqc_melt_good['participant_id'].isin(task_audit_pass_subjs)]"
   ]
  },
  {
   "cell_type": "code",
   "execution_count": 22,
   "id": "92655402",
   "metadata": {},
   "outputs": [
    {
     "data": {
      "text/plain": [
       "<Axes: xlabel='run,value'>"
      ]
     },
     "execution_count": 22,
     "metadata": {},
     "output_type": "execute_result"
    },
    {
     "data": {
      "image/png": "[encoded data removed]",
      "text/plain": [
       "<Figure size 640x480 with 1 Axes>"
      ]
     },
     "metadata": {},
     "output_type": "display_data"
    }
   ],
   "source": [
    "mriqc_melt_good_bhav.groupby('run')['value'].value_counts().plot.bar()"
   ]
  },
  {
   "cell_type": "code",
   "execution_count": 23,
   "id": "09e8f6ef",
   "metadata": {},
   "outputs": [],
   "source": [
    "mriqc_melt_good_bhav[['participant_id','run']].to_csv(proj_dir+'derivatives/participants_good.csv', \n",
    "                                                      index=False)"
   ]
  }
 ],
 "metadata": {
  "kernelspec": {
   "display_name": "Python 3 (ipykernel)",
   "language": "python",
   "name": "python3"
  },
  "language_info": {
   "codemirror_mode": {
    "name": "ipython",
    "version": 3
   },
   "file_extension": ".py",
   "mimetype": "text/x-python",
   "name": "python",
   "nbconvert_exporter": "python",
   "pygments_lexer": "ipython3",
   "version": "3.11.5"
  }
 },
 "nbformat": 4,
 "nbformat_minor": 5
}
