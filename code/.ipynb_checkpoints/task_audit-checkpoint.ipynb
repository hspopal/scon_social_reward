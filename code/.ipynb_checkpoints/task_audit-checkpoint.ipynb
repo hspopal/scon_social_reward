{
 "cells": [
  {
   "cell_type": "markdown",
   "id": "e5ce2e1b-2e3f-4504-8320-c8ddbea07d25",
   "metadata": {},
   "source": [
    "# Social Reward Task Error Audit"
   ]
  },
  {
   "cell_type": "markdown",
   "id": "62defec7-653e-42e2-bd85-37feba71d5bf",
   "metadata": {},
   "source": [
    "**Import packages**"
   ]
  },
  {
   "cell_type": "code",
   "execution_count": 1,
   "id": "5090e395-0698-42a3-bed8-e7211180df16",
   "metadata": {},
   "outputs": [],
   "source": [
    "import os\n",
    "import pandas as pd\n",
    "import glob\n",
    "import numpy as np\n",
    "import seaborn as sns"
   ]
  },
  {
   "cell_type": "markdown",
   "id": "ebda6de2-c257-4be0-bcec-5ba6a97a5679",
   "metadata": {},
   "source": [
    "**Set directories**"
   ]
  },
  {
   "cell_type": "code",
   "execution_count": 2,
   "id": "4b52f225-2ffc-4569-840e-49095c6c3812",
   "metadata": {},
   "outputs": [],
   "source": [
    "task_dir = '/Volumes/research$/redcay/DSCN Lab/Experiments/SCONN/task_socialreward/'\n",
    "data_dir = task_dir+'data/'\n",
    "rdcp_dir = task_dir+'stimuli/Redcap/wide_answers/'\n",
    "\n",
    "os.chdir(data_dir)\n"
   ]
  },
  {
   "cell_type": "markdown",
   "id": "946945ca-f7ef-45da-8d1c-2c052136c3a3",
   "metadata": {},
   "source": [
    "**Create a list of participants**"
   ]
  },
  {
   "cell_type": "code",
   "execution_count": 3,
   "id": "ee2bee94-9920-4cf5-a1a3-8aee9475878b",
   "metadata": {},
   "outputs": [
    {
     "name": "stdout",
     "output_type": "stream",
     "text": [
      "Found 107 participants\n"
     ]
    }
   ],
   "source": [
    "subj_list = [x for x in os.walk(data_dir)][0][1]\n",
    "subj_list.remove('SCN_00T')\n",
    "subj = subj_list[0]\n",
    "\n",
    "print('Found '+str(len(subj_list))+' participants')"
   ]
  },
  {
   "cell_type": "markdown",
   "id": "9c891214-d595-4536-ab49-04fa2ad95959",
   "metadata": {},
   "source": [
    "## Set up master item list"
   ]
  },
  {
   "cell_type": "code",
   "execution_count": 4,
   "id": "e70579f1-2631-4eb2-beb3-6a32ec0d0f29",
   "metadata": {},
   "outputs": [
    {
     "data": {
      "text/html": [
       "<div>\n",
       "<style scoped>\n",
       "    .dataframe tbody tr th:only-of-type {\n",
       "        vertical-align: middle;\n",
       "    }\n",
       "\n",
       "    .dataframe tbody tr th {\n",
       "        vertical-align: top;\n",
       "    }\n",
       "\n",
       "    .dataframe thead th {\n",
       "        text-align: right;\n",
       "    }\n",
       "</style>\n",
       "<table border=\"1\" class=\"dataframe\">\n",
       "  <thead>\n",
       "    <tr style=\"text-align: right;\">\n",
       "      <th></th>\n",
       "      <th>ItemNumber</th>\n",
       "      <th>Item_neg</th>\n",
       "      <th>Item_pos</th>\n",
       "      <th>Block</th>\n",
       "      <th>ITI0</th>\n",
       "      <th>ISI0</th>\n",
       "      <th>ITI</th>\n",
       "      <th>ISI</th>\n",
       "    </tr>\n",
       "  </thead>\n",
       "  <tbody>\n",
       "    <tr>\n",
       "      <th>0</th>\n",
       "      <td>1</td>\n",
       "      <td>not an animal lover</td>\n",
       "      <td>an animal lover</td>\n",
       "      <td>1.0</td>\n",
       "      <td>2.225983</td>\n",
       "      <td>2.076967</td>\n",
       "      <td>1.15600</td>\n",
       "      <td>4.0015</td>\n",
       "    </tr>\n",
       "    <tr>\n",
       "      <th>1</th>\n",
       "      <td>2</td>\n",
       "      <td>not superstitious</td>\n",
       "      <td>superstitious</td>\n",
       "      <td>1.0</td>\n",
       "      <td>3.985426</td>\n",
       "      <td>3.398669</td>\n",
       "      <td>0.96831</td>\n",
       "      <td>2.6719</td>\n",
       "    </tr>\n",
       "    <tr>\n",
       "      <th>2</th>\n",
       "      <td>3</td>\n",
       "      <td>don't like jazz</td>\n",
       "      <td>like jazz</td>\n",
       "      <td>1.0</td>\n",
       "      <td>5.675676</td>\n",
       "      <td>2.599246</td>\n",
       "      <td>2.06340</td>\n",
       "      <td>2.3704</td>\n",
       "    </tr>\n",
       "    <tr>\n",
       "      <th>3</th>\n",
       "      <td>4</td>\n",
       "      <td>don't like short stories</td>\n",
       "      <td>like short stories</td>\n",
       "      <td>1.0</td>\n",
       "      <td>2.182871</td>\n",
       "      <td>2.013044</td>\n",
       "      <td>4.62070</td>\n",
       "      <td>3.5144</td>\n",
       "    </tr>\n",
       "    <tr>\n",
       "      <th>4</th>\n",
       "      <td>5</td>\n",
       "      <td>not a feminist</td>\n",
       "      <td>a feminist</td>\n",
       "      <td>1.0</td>\n",
       "      <td>3.718975</td>\n",
       "      <td>5.283200</td>\n",
       "      <td>3.89710</td>\n",
       "      <td>2.0334</td>\n",
       "    </tr>\n",
       "    <tr>\n",
       "      <th>...</th>\n",
       "      <td>...</td>\n",
       "      <td>...</td>\n",
       "      <td>...</td>\n",
       "      <td>...</td>\n",
       "      <td>...</td>\n",
       "      <td>...</td>\n",
       "      <td>...</td>\n",
       "      <td>...</td>\n",
       "    </tr>\n",
       "    <tr>\n",
       "      <th>206</th>\n",
       "      <td>207</td>\n",
       "      <td>don't speak French</td>\n",
       "      <td>speak French</td>\n",
       "      <td>NaN</td>\n",
       "      <td>NaN</td>\n",
       "      <td>NaN</td>\n",
       "      <td>NaN</td>\n",
       "      <td>NaN</td>\n",
       "    </tr>\n",
       "    <tr>\n",
       "      <th>207</th>\n",
       "      <td>208</td>\n",
       "      <td>don't like libraries</td>\n",
       "      <td>like libraries</td>\n",
       "      <td>NaN</td>\n",
       "      <td>NaN</td>\n",
       "      <td>NaN</td>\n",
       "      <td>NaN</td>\n",
       "      <td>NaN</td>\n",
       "    </tr>\n",
       "    <tr>\n",
       "      <th>208</th>\n",
       "      <td>209</td>\n",
       "      <td>don't play video games</td>\n",
       "      <td>play video games</td>\n",
       "      <td>NaN</td>\n",
       "      <td>NaN</td>\n",
       "      <td>NaN</td>\n",
       "      <td>NaN</td>\n",
       "      <td>NaN</td>\n",
       "    </tr>\n",
       "    <tr>\n",
       "      <th>209</th>\n",
       "      <td>210</td>\n",
       "      <td>don't like guitars</td>\n",
       "      <td>like guitars</td>\n",
       "      <td>NaN</td>\n",
       "      <td>NaN</td>\n",
       "      <td>NaN</td>\n",
       "      <td>NaN</td>\n",
       "      <td>NaN</td>\n",
       "    </tr>\n",
       "    <tr>\n",
       "      <th>210</th>\n",
       "      <td>211</td>\n",
       "      <td>don't like candy</td>\n",
       "      <td>like candy</td>\n",
       "      <td>NaN</td>\n",
       "      <td>NaN</td>\n",
       "      <td>NaN</td>\n",
       "      <td>NaN</td>\n",
       "      <td>NaN</td>\n",
       "    </tr>\n",
       "  </tbody>\n",
       "</table>\n",
       "<p>211 rows × 8 columns</p>\n",
       "</div>"
      ],
      "text/plain": [
       "     ItemNumber                   Item_neg             Item_pos  Block  \\\n",
       "0             1        not an animal lover      an animal lover    1.0   \n",
       "1             2          not superstitious        superstitious    1.0   \n",
       "2             3            don't like jazz            like jazz    1.0   \n",
       "3             4   don't like short stories   like short stories    1.0   \n",
       "4             5             not a feminist           a feminist    1.0   \n",
       "..          ...                        ...                  ...    ...   \n",
       "206         207         don't speak French         speak French    NaN   \n",
       "207         208       don't like libraries       like libraries    NaN   \n",
       "208         209     don't play video games     play video games    NaN   \n",
       "209         210         don't like guitars         like guitars    NaN   \n",
       "210         211           don't like candy           like candy    NaN   \n",
       "\n",
       "         ITI0      ISI0      ITI     ISI  \n",
       "0    2.225983  2.076967  1.15600  4.0015  \n",
       "1    3.985426  3.398669  0.96831  2.6719  \n",
       "2    5.675676  2.599246  2.06340  2.3704  \n",
       "3    2.182871  2.013044  4.62070  3.5144  \n",
       "4    3.718975  5.283200  3.89710  2.0334  \n",
       "..        ...       ...      ...     ...  \n",
       "206       NaN       NaN      NaN     NaN  \n",
       "207       NaN       NaN      NaN     NaN  \n",
       "208       NaN       NaN      NaN     NaN  \n",
       "209       NaN       NaN      NaN     NaN  \n",
       "210       NaN       NaN      NaN     NaN  \n",
       "\n",
       "[211 rows x 8 columns]"
      ]
     },
     "execution_count": 4,
     "metadata": {},
     "output_type": "execute_result"
    }
   ],
   "source": [
    "master_items = pd.read_csv(task_dir+'stimuli/SocialConnection_Master.csv')\n",
    "n_items = len(master_items)\n",
    "master_items"
   ]
  },
  {
   "cell_type": "markdown",
   "id": "bed3aa57-84b9-4ce2-b51b-7927a6993d09",
   "metadata": {},
   "source": [
    "### Create dataframe of item valences\n",
    "This will be used to get the valence of the answers presented during the task"
   ]
  },
  {
   "cell_type": "code",
   "execution_count": 5,
   "id": "dbac7f39-f946-4ecd-b8be-a374771ae9c2",
   "metadata": {},
   "outputs": [
    {
     "data": {
      "text/html": [
       "<div>\n",
       "<style scoped>\n",
       "    .dataframe tbody tr th:only-of-type {\n",
       "        vertical-align: middle;\n",
       "    }\n",
       "\n",
       "    .dataframe tbody tr th {\n",
       "        vertical-align: top;\n",
       "    }\n",
       "\n",
       "    .dataframe thead th {\n",
       "        text-align: right;\n",
       "    }\n",
       "</style>\n",
       "<table border=\"1\" class=\"dataframe\">\n",
       "  <thead>\n",
       "    <tr style=\"text-align: right;\">\n",
       "      <th></th>\n",
       "      <th>item</th>\n",
       "      <th>valence</th>\n",
       "    </tr>\n",
       "  </thead>\n",
       "  <tbody>\n",
       "    <tr>\n",
       "      <th>0</th>\n",
       "      <td>an animal lover</td>\n",
       "      <td>pos</td>\n",
       "    </tr>\n",
       "    <tr>\n",
       "      <th>1</th>\n",
       "      <td>superstitious</td>\n",
       "      <td>pos</td>\n",
       "    </tr>\n",
       "    <tr>\n",
       "      <th>2</th>\n",
       "      <td>like jazz</td>\n",
       "      <td>pos</td>\n",
       "    </tr>\n",
       "    <tr>\n",
       "      <th>3</th>\n",
       "      <td>like short stories</td>\n",
       "      <td>pos</td>\n",
       "    </tr>\n",
       "    <tr>\n",
       "      <th>4</th>\n",
       "      <td>a feminist</td>\n",
       "      <td>pos</td>\n",
       "    </tr>\n",
       "    <tr>\n",
       "      <th>...</th>\n",
       "      <td>...</td>\n",
       "      <td>...</td>\n",
       "    </tr>\n",
       "    <tr>\n",
       "      <th>417</th>\n",
       "      <td>don't speak french</td>\n",
       "      <td>neg</td>\n",
       "    </tr>\n",
       "    <tr>\n",
       "      <th>418</th>\n",
       "      <td>don't like libraries</td>\n",
       "      <td>neg</td>\n",
       "    </tr>\n",
       "    <tr>\n",
       "      <th>419</th>\n",
       "      <td>don't play video games</td>\n",
       "      <td>neg</td>\n",
       "    </tr>\n",
       "    <tr>\n",
       "      <th>420</th>\n",
       "      <td>don't like guitars</td>\n",
       "      <td>neg</td>\n",
       "    </tr>\n",
       "    <tr>\n",
       "      <th>421</th>\n",
       "      <td>don't like candy</td>\n",
       "      <td>neg</td>\n",
       "    </tr>\n",
       "  </tbody>\n",
       "</table>\n",
       "<p>422 rows × 2 columns</p>\n",
       "</div>"
      ],
      "text/plain": [
       "                       item valence\n",
       "0           an animal lover     pos\n",
       "1             superstitious     pos\n",
       "2                 like jazz     pos\n",
       "3        like short stories     pos\n",
       "4                a feminist     pos\n",
       "..                      ...     ...\n",
       "417      don't speak french     neg\n",
       "418    don't like libraries     neg\n",
       "419  don't play video games     neg\n",
       "420      don't like guitars     neg\n",
       "421        don't like candy     neg\n",
       "\n",
       "[422 rows x 2 columns]"
      ]
     },
     "execution_count": 5,
     "metadata": {},
     "output_type": "execute_result"
    }
   ],
   "source": [
    "item_valence = pd.DataFrame(np.array([list(master_items['Item_pos']) + list(master_items['Item_neg']),\n",
    "                             ['pos']*n_items + ['neg']*n_items]).T,\n",
    "                           columns=['item', 'valence'])\n",
    "item_valence['item'] = item_valence['item'].str.strip()\n",
    "item_valence['item'] = item_valence['item'].str.lower()\n",
    "item_valence"
   ]
  },
  {
   "cell_type": "code",
   "execution_count": 6,
   "id": "e39f30c6-824b-46f0-8e26-0074769f72b8",
   "metadata": {},
   "outputs": [],
   "source": [
    "# Replace item strings to match what is shown during the task\n",
    "item_valence['item'].replace({\"don’t like young adult lit\": \"dont like young adult lit\",\n",
    "                              \"don√ït like phone calls\": \"don't like phone calls\",\n",
    "                              \"don’t like watching tv\": \"dont like watching tv\"},\n",
    "                                                    inplace=True)\n"
   ]
  },
  {
   "cell_type": "code",
   "execution_count": 7,
   "id": "16997921-d851-43e5-95e9-aa08c7a480c9",
   "metadata": {},
   "outputs": [
    {
     "data": {
      "text/plain": [
       "['like watching tv',\n",
       " 'like reality tv',\n",
       " 'dont like watching tv',\n",
       " \"don't like reality tv\"]"
      ]
     },
     "execution_count": 7,
     "metadata": {},
     "output_type": "execute_result"
    }
   ],
   "source": [
    "[x for x in item_valence['item'] if 'tv' in x]"
   ]
  },
  {
   "cell_type": "markdown",
   "id": "7f9c18bb-6f9e-44ec-bf27-2d9ce0c8ee85",
   "metadata": {},
   "source": [
    "## Find errors for all participants\n",
    "This will calculate the number of errors for each participant, and export updated run data files, indicating which items were incorrectly valenced."
   ]
  },
  {
   "cell_type": "code",
   "execution_count": 8,
   "id": "5d20ea69-4218-4a1c-99b2-0bd5e502d038",
   "metadata": {},
   "outputs": [],
   "source": [
    "# Create dataframe which will track the number of errors for each participant\n",
    "subj_error_df = pd.DataFrame(columns=['num_errors'], index=subj_list)"
   ]
  },
  {
   "cell_type": "code",
   "execution_count": 9,
   "id": "4d30aaa4-5640-42ce-b237-cf1ca17d04c2",
   "metadata": {},
   "outputs": [
    {
     "data": {
      "text/html": [
       "<div>\n",
       "<style scoped>\n",
       "    .dataframe tbody tr th:only-of-type {\n",
       "        vertical-align: middle;\n",
       "    }\n",
       "\n",
       "    .dataframe tbody tr th {\n",
       "        vertical-align: top;\n",
       "    }\n",
       "\n",
       "    .dataframe thead th {\n",
       "        text-align: right;\n",
       "    }\n",
       "</style>\n",
       "<table border=\"1\" class=\"dataframe\">\n",
       "  <thead>\n",
       "    <tr style=\"text-align: right;\">\n",
       "      <th></th>\n",
       "      <th>index</th>\n",
       "      <th>0</th>\n",
       "    </tr>\n",
       "  </thead>\n",
       "  <tbody>\n",
       "    <tr>\n",
       "      <th>0</th>\n",
       "      <td>socrew1</td>\n",
       "      <td>4</td>\n",
       "    </tr>\n",
       "    <tr>\n",
       "      <th>1</th>\n",
       "      <td>socrew2</td>\n",
       "      <td>2</td>\n",
       "    </tr>\n",
       "    <tr>\n",
       "      <th>2</th>\n",
       "      <td>socrew3</td>\n",
       "      <td>1</td>\n",
       "    </tr>\n",
       "    <tr>\n",
       "      <th>3</th>\n",
       "      <td>socrew4</td>\n",
       "      <td>4</td>\n",
       "    </tr>\n",
       "    <tr>\n",
       "      <th>4</th>\n",
       "      <td>socrew5</td>\n",
       "      <td>5</td>\n",
       "    </tr>\n",
       "    <tr>\n",
       "      <th>...</th>\n",
       "      <td>...</td>\n",
       "      <td>...</td>\n",
       "    </tr>\n",
       "    <tr>\n",
       "      <th>206</th>\n",
       "      <td>socrew207</td>\n",
       "      <td>1</td>\n",
       "    </tr>\n",
       "    <tr>\n",
       "      <th>207</th>\n",
       "      <td>socrew208</td>\n",
       "      <td>2</td>\n",
       "    </tr>\n",
       "    <tr>\n",
       "      <th>208</th>\n",
       "      <td>socrew209</td>\n",
       "      <td>2</td>\n",
       "    </tr>\n",
       "    <tr>\n",
       "      <th>209</th>\n",
       "      <td>socrew210</td>\n",
       "      <td>2</td>\n",
       "    </tr>\n",
       "    <tr>\n",
       "      <th>210</th>\n",
       "      <td>socrew211</td>\n",
       "      <td>5</td>\n",
       "    </tr>\n",
       "  </tbody>\n",
       "</table>\n",
       "<p>211 rows × 2 columns</p>\n",
       "</div>"
      ],
      "text/plain": [
       "         index  0\n",
       "0      socrew1  4\n",
       "1      socrew2  2\n",
       "2      socrew3  1\n",
       "3      socrew4  4\n",
       "4      socrew5  5\n",
       "..         ... ..\n",
       "206  socrew207  1\n",
       "207  socrew208  2\n",
       "208  socrew209  2\n",
       "209  socrew210  2\n",
       "210  socrew211  5\n",
       "\n",
       "[211 rows x 2 columns]"
      ]
     },
     "execution_count": 9,
     "metadata": {},
     "output_type": "execute_result"
    }
   ],
   "source": [
    "\n",
    "redcap_data = pd.read_csv(rdcp_dir+subj+'.csv')\n",
    "# Remove irrelavant columns\n",
    "redcap_data = redcap_data.drop(columns=['record_id', 'redcap_event_name', 'social_reward_fmri_complete'],\n",
    "                                      errors='ignore')\n",
    "redcap_data = redcap_data.drop(columns=[col for col in redcap_data if col.startswith('open')],\n",
    "                                      errors='ignore')\n",
    "        \n",
    "# Transpose so each row is an item\n",
    "redcap_data = redcap_data.T\n",
    "\n",
    "# Convert item labels into a column\n",
    "redcap_data.reset_index(inplace=True)\n",
    "redcap_data"
   ]
  },
  {
   "cell_type": "code",
   "execution_count": 12,
   "id": "ac8b11e2-5b01-4bb1-b9ca-805f0e8e2f4e",
   "metadata": {},
   "outputs": [],
   "source": [
    "for subj in subj_list:\n",
    "    run_files = glob.glob(data_dir+subj+'/*.csv')\n",
    "    run_files = [x for x in run_files if 'errors' not in x]\n",
    "    if not len(run_files) > 0:\n",
    "        continue\n",
    "\n",
    "    subj_error_df.loc[subj, 'num_errors'] = 0\n",
    "    \n",
    "    for run_file in run_files:\n",
    "        run_data = pd.read_csv(run_file, index_col=0, encoding_errors='ignore')\n",
    "\n",
    "        # Make questions lower case\n",
    "        run_data['Question'] = run_data['Question'].str.lower()\n",
    "\n",
    "        # Replace certain strings which are being read wrong\n",
    "        run_data['Question'].replace({\"don’t like young adult lit\": \"dont like young adult lit\",\n",
    "                                       \"don√ït like phone calls\": \"don't like phone calls\",\n",
    "                                       \"don’t like watching tv\": \"dont like watching tv\"},\n",
    "                                                    inplace=True)\n",
    "\n",
    "        # Match item valence to task item\n",
    "        run_data_check = pd.merge(left=run_data, right=item_valence,\n",
    "                         left_on=\"Question\", right_on=\"item\",\n",
    "                         how=\"left\")\n",
    "\n",
    "        # Import participant survey data\n",
    "        redcap_data = pd.read_csv(rdcp_dir+subj+'.csv')\n",
    "        \n",
    "        # Remove irrelavant columns\n",
    "        redcap_data = redcap_data.drop(columns=['record_id', 'redcap_event_name', 'social_reward_fmri_complete'],\n",
    "                                      errors='ignore')\n",
    "        redcap_data = redcap_data.drop(columns=[col for col in redcap_data if col.startswith('open')],\n",
    "                                      errors='ignore')\n",
    "        \n",
    "        # Transpose so each row is an item\n",
    "        redcap_data = redcap_data.T\n",
    "        \n",
    "        # Convert item labels into a column\n",
    "        redcap_data.reset_index(inplace=True)\n",
    "        \n",
    "        # Rename columns\n",
    "        redcap_data.columns = ['item', 'rating']\n",
    "        \n",
    "        # Remove prefix from item labels\n",
    "        redcap_data['item'] = [int(x.removeprefix('socrew')) for x in redcap_data['item']]\n",
    "\n",
    "        # Add participant ratings to run data items\n",
    "        run_data_check = pd.merge(left=run_data_check, right=redcap_data,\n",
    "                                 left_on=\"QuestionNumber\", right_on=\"item\",\n",
    "                                 how=\"left\")\n",
    "\n",
    "        # Replace number ratings with valence category labels\n",
    "        run_data_check['valence_redcap'] = run_data_check['rating'].to_list()\n",
    "        run_data_check['valence_redcap'] = run_data_check['valence_redcap'].replace([1, 2], 'neg')\n",
    "        run_data_check['valence_redcap'] = run_data_check['valence_redcap'].replace([4, 5], 'pos')\n",
    "\n",
    "        # Check if redcap valence matches task valence\n",
    "        run_data_check['redcap_v_task'] = np.where(run_data_check['valence_redcap'] == run_data_check['valence'], 0, 1)\n",
    "        subj_error_df.loc[subj, 'num_errors'] += run_data_check['redcap_v_task'].sum()\n",
    "\n",
    "        # Export updated task output with noted errors\n",
    "        run_data_check.to_csv(run_file[:-4]+'-errors.csv')"
   ]
  },
  {
   "cell_type": "markdown",
   "id": "0c833a0e-7287-49cd-a15f-f0362d6d8e84",
   "metadata": {},
   "source": [
    "## Visualization"
   ]
  },
  {
   "cell_type": "code",
   "execution_count": 13,
   "id": "6020bb80-eba4-4ca9-bafd-278983cbd3e2",
   "metadata": {},
   "outputs": [
    {
     "data": {
      "text/plain": [
       "Text(0.5, 1.0, 'Distribution of Number of Errors')"
      ]
     },
     "execution_count": 13,
     "metadata": {},
     "output_type": "execute_result"
    },
    {
     "data": {
      "image/png": "[encoded data removed]",
      "text/plain": [
       "<Figure size 640x480 with 1 Axes>"
      ]
     },
     "metadata": {},
     "output_type": "display_data"
    }
   ],
   "source": [
    "fig = sns.histplot(subj_error_df, discrete=True)\n",
    "fig.set_title('Distribution of Number of Errors')"
   ]
  },
  {
   "cell_type": "markdown",
   "id": "c459a902-803e-4035-a86a-fe89a61eefa1",
   "metadata": {},
   "source": [
    "**Export error counts**"
   ]
  },
  {
   "cell_type": "code",
   "execution_count": 14,
   "id": "0d8c9576-25d7-4fde-965b-4d4d179bbb7e",
   "metadata": {},
   "outputs": [],
   "source": [
    "subj_error_df = subj_error_df.sort_index()"
   ]
  },
  {
   "cell_type": "code",
   "execution_count": 15,
   "id": "41bdca9c-7f5b-4aee-90a1-edd0043ab899",
   "metadata": {},
   "outputs": [],
   "source": [
    "subj_error_df.to_csv(data_dir+'answer_errors_sum.csv')"
   ]
  },
  {
   "cell_type": "code",
   "execution_count": 16,
   "id": "a8947893-3eb8-407f-80d3-0a612b9c3b19",
   "metadata": {},
   "outputs": [
    {
     "data": {
      "text/plain": [
       "39"
      ]
     },
     "execution_count": 16,
     "metadata": {},
     "output_type": "execute_result"
    }
   ],
   "source": [
    "len(subj_error_df[subj_error_df['num_errors'] > 0])"
   ]
  },
  {
   "cell_type": "code",
   "execution_count": 17,
   "id": "cb267301-7305-46fe-94cb-61237e6789f5",
   "metadata": {},
   "outputs": [
    {
     "data": {
      "text/plain": [
       "5"
      ]
     },
     "execution_count": 17,
     "metadata": {},
     "output_type": "execute_result"
    }
   ],
   "source": [
    "len(subj_error_df[subj_error_df['num_errors'] > 5])"
   ]
  },
  {
   "cell_type": "markdown",
   "id": "7c5c1eb8-0dfb-4657-a6a5-650e4a969ac3",
   "metadata": {},
   "source": [
    "## Check errors for specific participant\n",
    "Useful for examining specific errors and troubleshooting."
   ]
  },
  {
   "cell_type": "code",
   "execution_count": 31,
   "id": "39e91f75-9d07-4fba-a03e-51c78314fa54",
   "metadata": {},
   "outputs": [
    {
     "data": {
      "text/html": [
       "<div>\n",
       "<style scoped>\n",
       "    .dataframe tbody tr th:only-of-type {\n",
       "        vertical-align: middle;\n",
       "    }\n",
       "\n",
       "    .dataframe tbody tr th {\n",
       "        vertical-align: top;\n",
       "    }\n",
       "\n",
       "    .dataframe thead th {\n",
       "        text-align: right;\n",
       "    }\n",
       "</style>\n",
       "<table border=\"1\" class=\"dataframe\">\n",
       "  <thead>\n",
       "    <tr style=\"text-align: right;\">\n",
       "      <th></th>\n",
       "      <th>ParticipantID</th>\n",
       "      <th>Run</th>\n",
       "      <th>Condition</th>\n",
       "      <th>ConditionName</th>\n",
       "      <th>Question</th>\n",
       "      <th>QuestionNumber</th>\n",
       "      <th>peerName</th>\n",
       "      <th>left_or_right</th>\n",
       "      <th>FirstButtonPressTime</th>\n",
       "      <th>CorrectButtonPressTime</th>\n",
       "      <th>...</th>\n",
       "      <th>TrialEnd_Length</th>\n",
       "      <th>FixStart</th>\n",
       "      <th>FixDur</th>\n",
       "      <th>FixEnd</th>\n",
       "      <th>item_x</th>\n",
       "      <th>valence</th>\n",
       "      <th>item_y</th>\n",
       "      <th>rating</th>\n",
       "      <th>valence_redcap</th>\n",
       "      <th>redcap_v_task</th>\n",
       "    </tr>\n",
       "  </thead>\n",
       "  <tbody>\n",
       "  </tbody>\n",
       "</table>\n",
       "<p>0 rows × 33 columns</p>\n",
       "</div>"
      ],
      "text/plain": [
       "Empty DataFrame\n",
       "Columns: [ParticipantID, Run, Condition, ConditionName, Question, QuestionNumber, peerName, left_or_right, FirstButtonPressTime, CorrectButtonPressTime, ParticipantsFirstAnswer, First_RT, Correct_RT, ItemStart, ItemEnd, FeedbackStart, FeedbackEnd, ItemDur, FeedbackDur, Real_ITI, Real_ISI, TrialStart, TrialEnd, TrialEnd_Length, FixStart, FixDur, FixEnd, item_x, valence, item_y, rating, valence_redcap, redcap_v_task]\n",
       "Index: []\n",
       "\n",
       "[0 rows x 33 columns]"
      ]
     },
     "execution_count": 31,
     "metadata": {},
     "output_type": "execute_result"
    }
   ],
   "source": [
    "subj = 'SCN_226'\n",
    "\n",
    "run_files = glob.glob(data_dir+subj+'/*.csv')\n",
    "run_files = [x for x in run_files if 'errors' in x]\n",
    "\n",
    "\n",
    "subj_spec_errors = pd.DataFrame()\n",
    "    \n",
    "for run_file in run_files:\n",
    "    run_data = pd.read_csv(run_file, index_col=0, encoding_errors='ignore')\n",
    "\n",
    "    temp_errors = run_data[run_data['redcap_v_task'] > 0]\n",
    "\n",
    "    subj_spec_errors = pd.concat([subj_spec_errors, temp_errors])\n",
    "\n",
    "subj_spec_errors"
   ]
  },
  {
   "cell_type": "code",
   "execution_count": 19,
   "id": "9b58e1cd-a043-4bcb-a441-1e81b674fb9c",
   "metadata": {},
   "outputs": [
    {
     "data": {
      "text/html": [
       "<div>\n",
       "<style scoped>\n",
       "    .dataframe tbody tr th:only-of-type {\n",
       "        vertical-align: middle;\n",
       "    }\n",
       "\n",
       "    .dataframe tbody tr th {\n",
       "        vertical-align: top;\n",
       "    }\n",
       "\n",
       "    .dataframe thead th {\n",
       "        text-align: right;\n",
       "    }\n",
       "</style>\n",
       "<table border=\"1\" class=\"dataframe\">\n",
       "  <thead>\n",
       "    <tr style=\"text-align: right;\">\n",
       "      <th></th>\n",
       "      <th>Question</th>\n",
       "      <th>item_x</th>\n",
       "    </tr>\n",
       "  </thead>\n",
       "  <tbody>\n",
       "  </tbody>\n",
       "</table>\n",
       "</div>"
      ],
      "text/plain": [
       "Empty DataFrame\n",
       "Columns: [Question, item_x]\n",
       "Index: []"
      ]
     },
     "execution_count": 19,
     "metadata": {},
     "output_type": "execute_result"
    }
   ],
   "source": [
    "subj_spec_errors[['Question', 'item_x']]"
   ]
  },
  {
   "cell_type": "code",
   "execution_count": 20,
   "id": "68a828b3-009e-4590-a415-5731f6d84472",
   "metadata": {},
   "outputs": [
    {
     "data": {
      "text/plain": [
       "['like young adult lit', 'dont like young adult lit']"
      ]
     },
     "execution_count": 20,
     "metadata": {},
     "output_type": "execute_result"
    }
   ],
   "source": [
    "[x for x in item_valence['item'] if 'adult' in x]"
   ]
  },
  {
   "cell_type": "code",
   "execution_count": null,
   "id": "94324cd6-fbb2-409e-9c00-d2ddc2ebf128",
   "metadata": {},
   "outputs": [],
   "source": []
  }
 ],
 "metadata": {
  "kernelspec": {
   "display_name": "Python 3 (ipykernel)",
   "language": "python",
   "name": "python3"
  },
  "language_info": {
   "codemirror_mode": {
    "name": "ipython",
    "version": 3
   },
   "file_extension": ".py",
   "mimetype": "text/x-python",
   "name": "python",
   "nbconvert_exporter": "python",
   "pygments_lexer": "ipython3",
   "version": "3.11.4"
  }
 },
 "nbformat": 4,
 "nbformat_minor": 5
}
